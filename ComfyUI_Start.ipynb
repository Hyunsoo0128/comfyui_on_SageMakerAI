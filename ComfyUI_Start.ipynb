{
 "cells": [
  {
   "cell_type": "markdown",
   "id": "411b9ea0-fe62-45a2-99a6-df9ba31aa706",
   "metadata": {},
   "source": [
    "### ComfyUI 서버 실행 및 접속 ###\n",
    "이 셀은 앞서 설치하고 준비한 ComfyUI를 웹 서버로 실행하는 역할을 합니다. 서버가 실행되면 웹 브라우저를 통해 ComfyUI의 노드 기반 인터페이스에 접속하여 이미지 생성을 시작할 수 있습니다.\n",
    "\n",
    "1. 코드 설명\n",
    "args = \"--preview-method auto --enable-cors-header --use-pytorch-cross-attention\"\n",
    "\n",
    "이 부분은 ComfyUI 서버를 시작할 때 적용할 추가 옵션들을 설정합니다.\n",
    "\n",
    "--preview-method auto: 이미지 생성 중간 과정을 보여주는 방식을 자동으로 설정합니다.\n",
    "\n",
    "--enable-cors-header: SageMaker와 같은 클라우드 환경에서 웹 인터페이스(프론트엔드)와 서버(백엔드)가 원활하게 통신할 수 있도록 허용하는 중요한 옵션입니다.\n",
    "\n",
    "--use-pytorch-cross-attention: PyTorch의 최적화된 연산 방식을 사용하여 성능을 향상시키는 옵션입니다.\n",
    "\n",
    "launch_comfy(args)\n",
    "\n",
    "ComfyUI/main.py 스크립트를 위에서 설정한 args 옵션과 함께 실행하여 서버를 시작하는 함수입니다.\n",
    "\n",
    "2. SageMaker Studio에서 접속하는 방법\n",
    "셀을 실행하면 출력 창에 http://127.0.0.1:8188 와 같은 로컬 주소가 나타납니다. 하지만 이 주소로는 SageMaker 환경에 직접 접속할 수 없습니다. 대신 아래의 방법으로 접속 주소를 변경해야 합니다.\n",
    "\n",
    "현재 JupyterLab 주소 확인\n",
    "먼저, 현재 사용 중인 웹 브라우저의 주소창을 확인합니다. 아래와 비슷한 형태일 것입니다.\n",
    "\n",
    "https://<스튜디오-ID>.studio.<리전>.sagemaker.aws/jupyter/default/lab\n",
    "\n",
    "기본 URL 추출\n",
    "위 주소에서 /lab 부분을 제외한 앞부분을 복사합니다.\n",
    "\n",
    "https://<스튜디오-ID>.studio.<리전>.sagemaker.aws/jupyter/default\n",
    "\n",
    "프록시 경로와 포트 번호 추가\n",
    "복사한 기본 URL 뒤에 /proxy/<포트번호>/를 추가합니다. ComfyUI의 기본 포트는 8188 입니다.\n",
    "\n",
    "/proxy/8188/\n",
    "\n",
    "최종 접속 URL 예시\n",
    "만약 내 JupyterLab 주소가:\n",
    "https://d-abcdef12345.studio.us-east-1.sagemaker.aws/jupyter/default/lab\n",
    "\n",
    "ComfyUI에 접속할 주소는:\n",
    "https://d-abcdef12345.studio.us-east-1.sagemaker.aws/jupyter/default/proxy/8188/\n",
    "\n",
    "이 최종 URL을 새 브라우저 탭에 입력하여 ComfyUI 인터페이스에 접속할 수 있습니다."
   ]
  },
  {
   "cell_type": "code",
   "execution_count": null,
   "id": "6f263bfd-ed76-47e3-9c9f-eb17eb37469a",
   "metadata": {
    "execution": {
     "iopub.execute_input": "2025-07-18T07:08:22.245042Z",
     "iopub.status.busy": "2025-07-18T07:08:22.244510Z"
    }
   },
   "outputs": [
    {
     "name": "stdout",
     "output_type": "stream",
     "text": [
      "Wait for local URL to appear\n",
      "[START] Security scan\n",
      "[DONE] Security scan\n",
      "## ComfyUI-Manager: installing dependencies done.\n",
      "** ComfyUI startup time: 2025-07-18 07:08:23.320\n",
      "** Platform: Linux\n",
      "** Python version: 3.12.9 | packaged by conda-forge | (main, Feb 14 2025, 08:00:06) [GCC 13.3.0]\n",
      "** Python executable: /opt/conda/bin/python\n",
      "** ComfyUI Path: /home/sagemaker-user/ComfyUI\n",
      "** ComfyUI Base Folder Path: /home/sagemaker-user/ComfyUI\n",
      "** User directory: /home/sagemaker-user/ComfyUI/user\n",
      "** ComfyUI-Manager config path: /home/sagemaker-user/ComfyUI/user/default/ComfyUI-Manager/config.ini\n",
      "** Log path: /home/sagemaker-user/ComfyUI/user/comfyui.log\n"
     ]
    },
    {
     "name": "stderr",
     "output_type": "stream",
     "text": [
      "\n",
      "Prestartup times for custom nodes:\n",
      "   2.4 seconds: /home/sagemaker-user/ComfyUI/custom_nodes/ComfyUI-Manager\n",
      "\n",
      "Checkpoint files will always be loaded safely.\n",
      "Total VRAM 22503 MB, total RAM 31737 MB\n",
      "pytorch version: 2.7.1+cu126\n",
      "Set vram state to: NORMAL_VRAM\n",
      "Device: cuda:0 NVIDIA A10G : cudaMallocAsync\n",
      "Using pytorch attention\n",
      "Python version: 3.12.9 | packaged by conda-forge | (main, Feb 14 2025, 08:00:06) [GCC 13.3.0]\n",
      "ComfyUI version: 0.3.44\n",
      "ComfyUI frontend version: 1.23.4\n",
      "[Prompt Server] web root: /opt/conda/lib/python3.12/site-packages/comfyui_frontend_package/static\n",
      "### Loading: ComfyUI-Manager (V3.34)\n",
      "[ComfyUI-Manager] network_mode: public\n",
      "[ComfyUI-Manager] Since --preview-method is set, ComfyUI-Manager's preview method feature will be ignored.\n",
      "### ComfyUI Version: v0.3.44-26-g650838fd | Released on '2025-07-17'\n",
      "\n",
      "Import times for custom nodes:\n",
      "   0.0 seconds: /home/sagemaker-user/ComfyUI/custom_nodes/websocket_image_save.py\n",
      "   0.3 seconds: /home/sagemaker-user/ComfyUI/custom_nodes/ComfyUI-Manager\n",
      "\n",
      "[ComfyUI-Manager] default cache updated: https://raw.githubusercontent.com/ltdrdata/ComfyUI-Manager/main/model-list.json\n",
      "[ComfyUI-Manager] default cache updated: https://raw.githubusercontent.com/ltdrdata/ComfyUI-Manager/main/custom-node-list.json\n",
      "[ComfyUI-Manager] default cache updated: https://raw.githubusercontent.com/ltdrdata/ComfyUI-Manager/main/github-stats.json\n",
      "[ComfyUI-Manager] default cache updated: https://raw.githubusercontent.com/ltdrdata/ComfyUI-Manager/main/alter-list.json\n",
      "[ComfyUI-Manager] default cache updated: https://raw.githubusercontent.com/ltdrdata/ComfyUI-Manager/main/extension-node-map.json\n",
      "Context impl SQLiteImpl.\n",
      "Will assume non-transactional DDL.\n",
      "No target revision found.\n",
      "Starting server\n",
      "\n",
      "To see the GUI go to: http://127.0.0.1:8188\n"
     ]
    },
    {
     "name": "stdout",
     "output_type": "stream",
     "text": [
      "FETCH ComfyRegistry Data: 5/92\n",
      "FETCH ComfyRegistry Data: 10/92\n",
      "FETCH ComfyRegistry Data: 15/92\n",
      "FETCH ComfyRegistry Data: 20/92\n",
      "FETCH ComfyRegistry Data: 25/92\n",
      "FETCH ComfyRegistry Data: 30/92\n",
      "FETCH ComfyRegistry Data: 35/92\n",
      "FETCH ComfyRegistry Data: 40/92\n",
      "FETCH ComfyRegistry Data: 45/92\n",
      "FETCH ComfyRegistry Data: 50/92\n",
      "FETCH ComfyRegistry Data: 55/92\n",
      "FETCH ComfyRegistry Data: 60/92\n",
      "FETCH ComfyRegistry Data: 65/92\n",
      "FETCH ComfyRegistry Data: 70/92\n",
      "FETCH ComfyRegistry Data: 75/92\n",
      "FETCH ComfyRegistry Data: 80/92\n",
      "FETCH ComfyRegistry Data: 85/92\n",
      "FETCH ComfyRegistry Data: 90/92\n",
      "FETCH ComfyRegistry Data [DONE]\n",
      "FETCH DATA from: https://raw.githubusercontent.com/ltdrdata/ComfyUI-Manager/main/custom-node-list.json [DONE]\n"
     ]
    },
    {
     "name": "stderr",
     "output_type": "stream",
     "text": [
      "[ComfyUI-Manager] default cache updated: https://api.comfy.org/nodes\n",
      "[ComfyUI-Manager] All startup tasks have been completed.\n",
      "100%|██████████| 283k/283k [00:00<00:00, 38.8MB/s]\n",
      "Extracted zip file to /home/sagemaker-user/ComfyUI/custom_nodes/comfyui_ipadapter_plus\n",
      "\n",
      "[ComfyUI-Manager] Queued works are completed.\n",
      "{'install': 1}\n",
      "\n",
      "After restarting ComfyUI, please refresh the browser.\n",
      "100%|██████████| 39.8M/39.8M [00:00<00:00, 370MB/s]\n",
      "Extracted zip file to /home/sagemaker-user/ComfyUI/custom_nodes/comfyui_controlnet_aux\n",
      "\u001b[2mUsing Python 3.12.9 environment at: /opt/conda\u001b[0m\n",
      "[!] \u001b[2mUsing Python 3.12.9 environment at: /opt/conda\u001b[0m\n",
      "[!] \u001b[2mAudited \u001b[1m1 package\u001b[0m \u001b[2min 14ms\u001b[0m\u001b[0m\n",
      "[!] \u001b[2mUsing Python 3.12.9 environment at: /opt/conda\u001b[0m\n"
     ]
    },
    {
     "name": "stdout",
     "output_type": "stream",
     "text": [
      "Install: pip packages\n",
      "\u001b[1m[\u001b[0mComfyUI-Manager\u001b[1m]\u001b[0m skip black listed pip installation: \u001b[32m'torch'\u001b[0m\n",
      "\n",
      "## ComfyUI-Manager: EXECUTE => \u001b[1m[\u001b[0m\u001b[32m'/opt/conda/bin/python'\u001b[0m, \u001b[32m'-m'\u001b[0m, \u001b[32m'uv'\u001b[0m, \u001b[32m'pip'\u001b[0m, \n",
      "\u001b[32m'install'\u001b[0m, \u001b[32m'importlib_metadata'\u001b[0m\u001b[1m]\u001b[0m\n",
      "\n",
      "## ComfyUI-Manager: EXECUTE => \u001b[1m[\u001b[0m\u001b[32m'/opt/conda/bin/python'\u001b[0m, \u001b[32m'-m'\u001b[0m, \u001b[32m'uv'\u001b[0m, \u001b[32m'pip'\u001b[0m, \n",
      "\u001b[32m'install'\u001b[0m, \u001b[32m'huggingface_hub'\u001b[0m\u001b[1m]\u001b[0m\n",
      "\n",
      "## ComfyUI-Manager: EXECUTE => \u001b[1m[\u001b[0m\u001b[32m'/opt/conda/bin/python'\u001b[0m, \u001b[32m'-m'\u001b[0m, \u001b[32m'uv'\u001b[0m, \u001b[32m'pip'\u001b[0m, \n",
      "\u001b[32m'install'\u001b[0m, \u001b[32m'scipy'\u001b[0m\u001b[1m]\u001b[0m\n"
     ]
    },
    {
     "name": "stderr",
     "output_type": "stream",
     "text": [
      "[!] \u001b[2mAudited \u001b[1m1 package\u001b[0m \u001b[2min 14ms\u001b[0m\u001b[0m\n",
      "[!] \u001b[2mUsing Python 3.12.9 environment at: /opt/conda\u001b[0m\n",
      "[!] \u001b[2mAudited \u001b[1m1 package\u001b[0m \u001b[2min 13ms\u001b[0m\u001b[0m\n",
      "[!] \u001b[2mUsing Python 3.12.9 environment at: /opt/conda\u001b[0m\n",
      "[!] \u001b[2mAudited \u001b[1m1 package\u001b[0m \u001b[2min 14ms\u001b[0m\u001b[0m\n",
      "[!] \u001b[2mUsing Python 3.12.9 environment at: /opt/conda\u001b[0m\n",
      "[!] \u001b[2mAudited \u001b[1m1 package\u001b[0m \u001b[2min 13ms\u001b[0m\u001b[0m\n",
      "[!] \u001b[2mUsing Python 3.12.9 environment at: /opt/conda\u001b[0m\n",
      "[!] \u001b[2mAudited \u001b[1m1 package\u001b[0m \u001b[2min 13ms\u001b[0m\u001b[0m\n",
      "[!] \u001b[2mUsing Python 3.12.9 environment at: /opt/conda\u001b[0m\n"
     ]
    },
    {
     "name": "stdout",
     "output_type": "stream",
     "text": [
      "\n",
      "## ComfyUI-Manager: EXECUTE => \u001b[1m[\u001b[0m\u001b[32m'/opt/conda/bin/python'\u001b[0m, \u001b[32m'-m'\u001b[0m, \u001b[32m'uv'\u001b[0m, \u001b[32m'pip'\u001b[0m, \n",
      "\u001b[32m'install'\u001b[0m, \u001b[32m'opencv-python>=4.7.0.72'\u001b[0m\u001b[1m]\u001b[0m\n",
      "\n",
      "## ComfyUI-Manager: EXECUTE => \u001b[1m[\u001b[0m\u001b[32m'/opt/conda/bin/python'\u001b[0m, \u001b[32m'-m'\u001b[0m, \u001b[32m'uv'\u001b[0m, \u001b[32m'pip'\u001b[0m, \n",
      "\u001b[32m'install'\u001b[0m, \u001b[32m'filelock'\u001b[0m\u001b[1m]\u001b[0m\n",
      "\n",
      "## ComfyUI-Manager: EXECUTE => \u001b[1m[\u001b[0m\u001b[32m'/opt/conda/bin/python'\u001b[0m, \u001b[32m'-m'\u001b[0m, \u001b[32m'uv'\u001b[0m, \u001b[32m'pip'\u001b[0m, \n",
      "\u001b[32m'install'\u001b[0m, \u001b[32m'numpy'\u001b[0m\u001b[1m]\u001b[0m\n",
      "\n",
      "## ComfyUI-Manager: EXECUTE => \u001b[1m[\u001b[0m\u001b[32m'/opt/conda/bin/python'\u001b[0m, \u001b[32m'-m'\u001b[0m, \u001b[32m'uv'\u001b[0m, \u001b[32m'pip'\u001b[0m, \n",
      "\u001b[32m'install'\u001b[0m, \u001b[32m'Pillow'\u001b[0m\u001b[1m]\u001b[0m\n",
      "\n",
      "## ComfyUI-Manager: EXECUTE => \u001b[1m[\u001b[0m\u001b[32m'/opt/conda/bin/python'\u001b[0m, \u001b[32m'-m'\u001b[0m, \u001b[32m'uv'\u001b[0m, \u001b[32m'pip'\u001b[0m, \n",
      "\u001b[32m'install'\u001b[0m, \u001b[32m'einops'\u001b[0m\u001b[1m]\u001b[0m\n"
     ]
    },
    {
     "name": "stderr",
     "output_type": "stream",
     "text": [
      "[!] \u001b[2mAudited \u001b[1m1 package\u001b[0m \u001b[2min 13ms\u001b[0m\u001b[0m\n",
      "[!] \u001b[2mUsing Python 3.12.9 environment at: /opt/conda\u001b[0m\n",
      "[!] \u001b[2mAudited \u001b[1m1 package\u001b[0m \u001b[2min 13ms\u001b[0m\u001b[0m\n",
      "[!] \u001b[2mUsing Python 3.12.9 environment at: /opt/conda\u001b[0m\n",
      "[!] \u001b[2mAudited \u001b[1m1 package\u001b[0m \u001b[2min 13ms\u001b[0m\u001b[0m\n",
      "[!] \u001b[2mUsing Python 3.12.9 environment at: /opt/conda\u001b[0m\n",
      "[!] \u001b[2mAudited \u001b[1m1 package\u001b[0m \u001b[2min 15ms\u001b[0m\u001b[0m\n",
      "[!] \u001b[2mUsing Python 3.12.9 environment at: /opt/conda\u001b[0m\n",
      "[!] \u001b[2mAudited \u001b[1m1 package\u001b[0m \u001b[2min 13ms\u001b[0m\u001b[0m\n"
     ]
    },
    {
     "name": "stdout",
     "output_type": "stream",
     "text": [
      "\u001b[1m[\u001b[0mComfyUI-Manager\u001b[1m]\u001b[0m skip black listed pip installation: \u001b[32m'torchvision'\u001b[0m\n",
      "\n",
      "## ComfyUI-Manager: EXECUTE => \u001b[1m[\u001b[0m\u001b[32m'/opt/conda/bin/python'\u001b[0m, \u001b[32m'-m'\u001b[0m, \u001b[32m'uv'\u001b[0m, \u001b[32m'pip'\u001b[0m, \n",
      "\u001b[32m'install'\u001b[0m, \u001b[32m'pyyaml'\u001b[0m\u001b[1m]\u001b[0m\n",
      "\n",
      "## ComfyUI-Manager: EXECUTE => \u001b[1m[\u001b[0m\u001b[32m'/opt/conda/bin/python'\u001b[0m, \u001b[32m'-m'\u001b[0m, \u001b[32m'uv'\u001b[0m, \u001b[32m'pip'\u001b[0m, \n",
      "\u001b[32m'install'\u001b[0m, \u001b[32m'scikit-image'\u001b[0m\u001b[1m]\u001b[0m\n",
      "\n",
      "## ComfyUI-Manager: EXECUTE => \u001b[1m[\u001b[0m\u001b[32m'/opt/conda/bin/python'\u001b[0m, \u001b[32m'-m'\u001b[0m, \u001b[32m'uv'\u001b[0m, \u001b[32m'pip'\u001b[0m, \n",
      "\u001b[32m'install'\u001b[0m, \u001b[32m'python-dateutil'\u001b[0m\u001b[1m]\u001b[0m\n",
      "\n",
      "## ComfyUI-Manager: EXECUTE => \u001b[1m[\u001b[0m\u001b[32m'/opt/conda/bin/python'\u001b[0m, \u001b[32m'-m'\u001b[0m, \u001b[32m'uv'\u001b[0m, \u001b[32m'pip'\u001b[0m, \n",
      "\u001b[32m'install'\u001b[0m, \u001b[32m'mediapipe'\u001b[0m\u001b[1m]\u001b[0m\n"
     ]
    },
    {
     "name": "stderr",
     "output_type": "stream",
     "text": [
      "[!] \u001b[2mUsing Python 3.12.9 environment at: /opt/conda\u001b[0m\n",
      "[!] \u001b[2mResolved \u001b[1m26 packages\u001b[0m \u001b[2min 146ms\u001b[0m\u001b[0m\n",
      "[!] \u001b[2mPrepared \u001b[1m8 packages\u001b[0m \u001b[2min 1.89s\u001b[0m\u001b[0m\n",
      "[!] \u001b[2mUninstalled \u001b[1m3 packages\u001b[0m \u001b[2min 75ms\u001b[0m\u001b[0m\n",
      "[!] \u001b[1m\u001b[33mwarning\u001b[39m\u001b[0m\u001b[1m:\u001b[0m \u001b[1mFailed to hardlink files; falling back to full copy. This may lead to degraded performance.\n",
      "[!]          If the cache and target directories are on different filesystems, hardlinking may not be supported.\n",
      "[!]          If this is intentional, set `export UV_LINK_MODE=copy` or use `--link-mode=copy` to suppress this warning.\u001b[0m\n",
      "[!] \u001b[2mInstalled \u001b[1m8 packages\u001b[0m \u001b[2min 243ms\u001b[0m\u001b[0m\n",
      "[!]  \u001b[32m+\u001b[39m \u001b[1mjax\u001b[0m\u001b[2m==0.6.2\u001b[0m\n",
      "[!]  \u001b[32m+\u001b[39m \u001b[1mjaxlib\u001b[0m\u001b[2m==0.6.2\u001b[0m\n",
      "[!]  \u001b[32m+\u001b[39m \u001b[1mmediapipe\u001b[0m\u001b[2m==0.10.21\u001b[0m\n",
      "[!]  \u001b[31m-\u001b[39m \u001b[1mml-dtypes\u001b[0m\u001b[2m==0.4.0 (from file:///home/conda/feedstock_root/build_artifacts/ml_dtypes_1725475049998/work)\u001b[0m\n",
      "[!]  \u001b[32m+\u001b[39m \u001b[1mml-dtypes\u001b[0m\u001b[2m==0.5.1\u001b[0m\n",
      "[!]  \u001b[31m-\u001b[39m \u001b[1mnumpy\u001b[0m\u001b[2m==2.2.6\u001b[0m\n",
      "[!]  \u001b[32m+\u001b[39m \u001b[1mnumpy\u001b[0m\u001b[2m==1.26.4\u001b[0m\n",
      "[!]  \u001b[32m+\u001b[39m \u001b[1mopencv-contrib-python\u001b[0m\u001b[2m==4.11.0.86\u001b[0m\n",
      "[!]  \u001b[31m-\u001b[39m \u001b[1mprotobuf\u001b[0m\u001b[2m==5.28.3 (from file:///home/conda/feedstock_root/build_artifacts/protobuf_1731365424504/work/bazel-bin/python/dist/protobuf-5.28.3-cp312-abi3-linux_x86_64.whl)\u001b[0m\n",
      "[!]  \u001b[32m+\u001b[39m \u001b[1mprotobuf\u001b[0m\u001b[2m==4.25.8\u001b[0m\n",
      "[!]  \u001b[32m+\u001b[39m \u001b[1msounddevice\u001b[0m\u001b[2m==0.5.2\u001b[0m\n",
      "[!] \u001b[2mUsing Python 3.12.9 environment at: /opt/conda\u001b[0m\n"
     ]
    },
    {
     "name": "stdout",
     "output_type": "stream",
     "text": [
      "\n",
      "## ComfyUI-Manager: EXECUTE => \u001b[1m[\u001b[0m\u001b[32m'/opt/conda/bin/python'\u001b[0m, \u001b[32m'-m'\u001b[0m, \u001b[32m'uv'\u001b[0m, \u001b[32m'pip'\u001b[0m, \n",
      "\u001b[32m'install'\u001b[0m, \u001b[32m'svglib'\u001b[0m\u001b[1m]\u001b[0m\n"
     ]
    },
    {
     "name": "stderr",
     "output_type": "stream",
     "text": [
      "[!] \u001b[2mResolved \u001b[1m8 packages\u001b[0m \u001b[2min 614ms\u001b[0m\u001b[0m\n",
      "[!] \u001b[2mPrepared \u001b[1m3 packages\u001b[0m \u001b[2min 205ms\u001b[0m\u001b[0m\n",
      "[!] \u001b[1m\u001b[33mwarning\u001b[39m\u001b[0m\u001b[1m:\u001b[0m \u001b[1mFailed to hardlink files; falling back to full copy. This may lead to degraded performance.\n",
      "[!]          If the cache and target directories are on different filesystems, hardlinking may not be supported.\n",
      "[!]          If this is intentional, set `export UV_LINK_MODE=copy` or use `--link-mode=copy` to suppress this warning.\u001b[0m\n",
      "[!] \u001b[2mInstalled \u001b[1m3 packages\u001b[0m \u001b[2min 17ms\u001b[0m\u001b[0m\n",
      "[!]  \u001b[32m+\u001b[39m \u001b[1mcssselect2\u001b[0m\u001b[2m==0.8.0\u001b[0m\n",
      "[!]  \u001b[32m+\u001b[39m \u001b[1mreportlab\u001b[0m\u001b[2m==4.4.2\u001b[0m\n",
      "[!]  \u001b[32m+\u001b[39m \u001b[1msvglib\u001b[0m\u001b[2m==1.5.1\u001b[0m\n",
      "[!] \u001b[2mUsing Python 3.12.9 environment at: /opt/conda\u001b[0m\n"
     ]
    },
    {
     "name": "stdout",
     "output_type": "stream",
     "text": [
      "\n",
      "## ComfyUI-Manager: EXECUTE => \u001b[1m[\u001b[0m\u001b[32m'/opt/conda/bin/python'\u001b[0m, \u001b[32m'-m'\u001b[0m, \u001b[32m'uv'\u001b[0m, \u001b[32m'pip'\u001b[0m, \n",
      "\u001b[32m'install'\u001b[0m, \u001b[32m'fvcore'\u001b[0m\u001b[1m]\u001b[0m\n"
     ]
    },
    {
     "name": "stderr",
     "output_type": "stream",
     "text": [
      "[!] \u001b[2mResolved \u001b[1m11 packages\u001b[0m \u001b[2min 943ms\u001b[0m\u001b[0m\n",
      "[!] \u001b[2mPrepared \u001b[1m4 packages\u001b[0m \u001b[2min 219ms\u001b[0m\u001b[0m\n",
      "[!] \u001b[1m\u001b[33mwarning\u001b[39m\u001b[0m\u001b[1m:\u001b[0m \u001b[1mFailed to hardlink files; falling back to full copy. This may lead to degraded performance.\n",
      "[!]          If the cache and target directories are on different filesystems, hardlinking may not be supported.\n",
      "[!]          If this is intentional, set `export UV_LINK_MODE=copy` or use `--link-mode=copy` to suppress this warning.\u001b[0m\n",
      "[!] \u001b[2mInstalled \u001b[1m4 packages\u001b[0m \u001b[2min 4ms\u001b[0m\u001b[0m\n",
      "[!]  \u001b[32m+\u001b[39m \u001b[1mfvcore\u001b[0m\u001b[2m==0.1.5.post20221221\u001b[0m\n",
      "[!]  \u001b[32m+\u001b[39m \u001b[1miopath\u001b[0m\u001b[2m==0.1.10\u001b[0m\n",
      "[!]  \u001b[32m+\u001b[39m \u001b[1mportalocker\u001b[0m\u001b[2m==3.2.0\u001b[0m\n",
      "[!]  \u001b[32m+\u001b[39m \u001b[1myacs\u001b[0m\u001b[2m==0.1.8\u001b[0m\n",
      "[!] \u001b[2mUsing Python 3.12.9 environment at: /opt/conda\u001b[0m\n",
      "[!] \u001b[2mAudited \u001b[1m1 package\u001b[0m \u001b[2min 13ms\u001b[0m\u001b[0m\n",
      "[!] \u001b[2mUsing Python 3.12.9 environment at: /opt/conda\u001b[0m\n",
      "[!] \u001b[2mAudited \u001b[1m1 package\u001b[0m \u001b[2min 14ms\u001b[0m\u001b[0m\n",
      "[!] \u001b[2mUsing Python 3.12.9 environment at: /opt/conda\u001b[0m\n",
      "[!] \u001b[2mAudited \u001b[1m1 package\u001b[0m \u001b[2min 13ms\u001b[0m\u001b[0m\n",
      "[!] \u001b[2mUsing Python 3.12.9 environment at: /opt/conda\u001b[0m\n"
     ]
    },
    {
     "name": "stdout",
     "output_type": "stream",
     "text": [
      "\n",
      "## ComfyUI-Manager: EXECUTE => \u001b[1m[\u001b[0m\u001b[32m'/opt/conda/bin/python'\u001b[0m, \u001b[32m'-m'\u001b[0m, \u001b[32m'uv'\u001b[0m, \u001b[32m'pip'\u001b[0m, \n",
      "\u001b[32m'install'\u001b[0m, \u001b[32m'yapf'\u001b[0m\u001b[1m]\u001b[0m\n",
      "\n",
      "## ComfyUI-Manager: EXECUTE => \u001b[1m[\u001b[0m\u001b[32m'/opt/conda/bin/python'\u001b[0m, \u001b[32m'-m'\u001b[0m, \u001b[32m'uv'\u001b[0m, \u001b[32m'pip'\u001b[0m, \n",
      "\u001b[32m'install'\u001b[0m, \u001b[32m'omegaconf'\u001b[0m\u001b[1m]\u001b[0m\n",
      "\n",
      "## ComfyUI-Manager: EXECUTE => \u001b[1m[\u001b[0m\u001b[32m'/opt/conda/bin/python'\u001b[0m, \u001b[32m'-m'\u001b[0m, \u001b[32m'uv'\u001b[0m, \u001b[32m'pip'\u001b[0m, \n",
      "\u001b[32m'install'\u001b[0m, \u001b[32m'ftfy'\u001b[0m\u001b[1m]\u001b[0m\n",
      "\n",
      "## ComfyUI-Manager: EXECUTE => \u001b[1m[\u001b[0m\u001b[32m'/opt/conda/bin/python'\u001b[0m, \u001b[32m'-m'\u001b[0m, \u001b[32m'uv'\u001b[0m, \u001b[32m'pip'\u001b[0m, \n",
      "\u001b[32m'install'\u001b[0m, \u001b[32m'addict'\u001b[0m\u001b[1m]\u001b[0m\n",
      "\n",
      "## ComfyUI-Manager: EXECUTE => \u001b[1m[\u001b[0m\u001b[32m'/opt/conda/bin/python'\u001b[0m, \u001b[32m'-m'\u001b[0m, \u001b[32m'uv'\u001b[0m, \u001b[32m'pip'\u001b[0m, \n",
      "\u001b[32m'install'\u001b[0m, \u001b[32m'yacs'\u001b[0m\u001b[1m]\u001b[0m\n"
     ]
    },
    {
     "name": "stderr",
     "output_type": "stream",
     "text": [
      "[!] \u001b[2mResolved \u001b[1m1 package\u001b[0m \u001b[2min 17ms\u001b[0m\u001b[0m\n",
      "[!] \u001b[2mPrepared \u001b[1m1 package\u001b[0m \u001b[2min 2ms\u001b[0m\u001b[0m\n",
      "[!] \u001b[1m\u001b[33mwarning\u001b[39m\u001b[0m\u001b[1m:\u001b[0m \u001b[1mFailed to hardlink files; falling back to full copy. This may lead to degraded performance.\n",
      "[!]          If the cache and target directories are on different filesystems, hardlinking may not be supported.\n",
      "[!]          If this is intentional, set `export UV_LINK_MODE=copy` or use `--link-mode=copy` to suppress this warning.\u001b[0m\n",
      "[!] \u001b[2mInstalled \u001b[1m1 package\u001b[0m \u001b[2min 3ms\u001b[0m\u001b[0m\n",
      "[!]  \u001b[32m+\u001b[39m \u001b[1maddict\u001b[0m\u001b[2m==2.4.0\u001b[0m\n",
      "[!] \u001b[2mUsing Python 3.12.9 environment at: /opt/conda\u001b[0m\n",
      "[!] \u001b[2mAudited \u001b[1m1 package\u001b[0m \u001b[2min 13ms\u001b[0m\u001b[0m\n",
      "[!] \u001b[2mUsing Python 3.12.9 environment at: /opt/conda\u001b[0m\n",
      "[!] \u001b[2mResolved \u001b[1m32 packages\u001b[0m \u001b[2min 93ms\u001b[0m\u001b[0m\n"
     ]
    },
    {
     "name": "stdout",
     "output_type": "stream",
     "text": [
      "\n",
      "## ComfyUI-Manager: EXECUTE => \u001b[1m[\u001b[0m\u001b[32m'/opt/conda/bin/python'\u001b[0m, \u001b[32m'-m'\u001b[0m, \u001b[32m'uv'\u001b[0m, \u001b[32m'pip'\u001b[0m, \n",
      "\u001b[32m'install'\u001b[0m, \u001b[32m'trimesh\u001b[0m\u001b[32m'\u001b[0m\u001b[1m]\u001b[0m\n"
     ]
    },
    {
     "name": "stderr",
     "output_type": "stream",
     "text": [
      "[!] \u001b[2mPrepared \u001b[1m9 packages\u001b[0m \u001b[2min 214ms\u001b[0m\u001b[0m\n",
      "[!] \u001b[1m\u001b[33mwarning\u001b[39m\u001b[0m\u001b[1m:\u001b[0m \u001b[1mFailed to hardlink files; falling back to full copy. This may lead to degraded performance.\n",
      "[!]          If the cache and target directories are on different filesystems, hardlinking may not be supported.\n",
      "[!]          If this is intentional, set `export UV_LINK_MODE=copy` or use `--link-mode=copy` to suppress this warning.\u001b[0m\n",
      "[!] \u001b[2mInstalled \u001b[1m9 packages\u001b[0m \u001b[2min 28ms\u001b[0m\u001b[0m\n",
      "[!]  \u001b[32m+\u001b[39m \u001b[1membreex\u001b[0m\u001b[2m==2.17.7.post6\u001b[0m\n",
      "[!]  \u001b[32m+\u001b[39m \u001b[1mmanifold3d\u001b[0m\u001b[2m==3.2.0\u001b[0m\n",
      "[!]  \u001b[32m+\u001b[39m \u001b[1mmapbox-earcut\u001b[0m\u001b[2m==1.0.3\u001b[0m\n",
      "[!]  \u001b[32m+\u001b[39m \u001b[1mpycollada\u001b[0m\u001b[2m==0.9.2\u001b[0m\n",
      "[!]  \u001b[32m+\u001b[39m \u001b[1mrtree\u001b[0m\u001b[2m==1.4.0\u001b[0m\n",
      "[!]  \u001b[32m+\u001b[39m \u001b[1mshapely\u001b[0m\u001b[2m==2.1.1\u001b[0m\n",
      "[!]  \u001b[32m+\u001b[39m \u001b[1msvg-path\u001b[0m\u001b[2m==7.0\u001b[0m\n",
      "[!]  \u001b[32m+\u001b[39m \u001b[1mtrimesh\u001b[0m\u001b[2m==4.7.1\u001b[0m\n",
      "[!]  \u001b[32m+\u001b[39m \u001b[1mvhacdx\u001b[0m\u001b[2m==0.0.8.post2\u001b[0m\n",
      "[!] \u001b[2mUsing Python 3.12.9 environment at: /opt/conda\u001b[0m\n"
     ]
    },
    {
     "name": "stdout",
     "output_type": "stream",
     "text": [
      "\n",
      "## ComfyUI-Manager: EXECUTE => \u001b[1m[\u001b[0m\u001b[32m'/opt/conda/bin/python'\u001b[0m, \u001b[32m'-m'\u001b[0m, \u001b[32m'uv'\u001b[0m, \u001b[32m'pip'\u001b[0m, \n",
      "\u001b[32m'install'\u001b[0m, \u001b[32m'albumentations'\u001b[0m\u001b[1m]\u001b[0m\n"
     ]
    },
    {
     "name": "stderr",
     "output_type": "stream",
     "text": [
      "[!] \u001b[2mResolved \u001b[1m13 packages\u001b[0m \u001b[2min 174ms\u001b[0m\u001b[0m\n",
      "[!] \u001b[2mPrepared \u001b[1m5 packages\u001b[0m \u001b[2min 446ms\u001b[0m\u001b[0m\n",
      "[!] \u001b[2mUninstalled \u001b[1m1 package\u001b[0m \u001b[2min 30ms\u001b[0m\u001b[0m\n",
      "[!] \u001b[1m\u001b[33mwarning\u001b[39m\u001b[0m\u001b[1m:\u001b[0m \u001b[1mFailed to hardlink files; falling back to full copy. This may lead to degraded performance.\n",
      "[!]          If the cache and target directories are on different filesystems, hardlinking may not be supported.\n",
      "[!]          If this is intentional, set `export UV_LINK_MODE=copy` or use `--link-mode=copy` to suppress this warning.\u001b[0m\n",
      "[!] \u001b[2mInstalled \u001b[1m5 packages\u001b[0m \u001b[2min 84ms\u001b[0m\u001b[0m\n",
      "[!]  \u001b[32m+\u001b[39m \u001b[1malbucore\u001b[0m\u001b[2m==0.0.24\u001b[0m\n",
      "[!]  \u001b[32m+\u001b[39m \u001b[1malbumentations\u001b[0m\u001b[2m==2.0.8\u001b[0m\n",
      "[!]  \u001b[31m-\u001b[39m \u001b[1mopencv-python-headless\u001b[0m\u001b[2m==4.12.0.88\u001b[0m\n",
      "[!]  \u001b[32m+\u001b[39m \u001b[1mopencv-python-headless\u001b[0m\u001b[2m==4.11.0.86\u001b[0m\n",
      "[!]  \u001b[32m+\u001b[39m \u001b[1msimsimd\u001b[0m\u001b[2m==6.5.0\u001b[0m\n",
      "[!]  \u001b[32m+\u001b[39m \u001b[1mstringzilla\u001b[0m\u001b[2m==3.12.5\u001b[0m\n",
      "[!] \u001b[2mUsing Python 3.12.9 environment at: /opt/conda\u001b[0m\n",
      "[!] \u001b[2mAudited \u001b[1m1 package\u001b[0m \u001b[2min 14ms\u001b[0m\u001b[0m\n",
      "[!] \u001b[2mUsing Python 3.12.9 environment at: /opt/conda\u001b[0m\n"
     ]
    },
    {
     "name": "stdout",
     "output_type": "stream",
     "text": [
      "\n",
      "## ComfyUI-Manager: EXECUTE => \u001b[1m[\u001b[0m\u001b[32m'/opt/conda/bin/python'\u001b[0m, \u001b[32m'-m'\u001b[0m, \u001b[32m'uv'\u001b[0m, \u001b[32m'pip'\u001b[0m, \n",
      "\u001b[32m'install'\u001b[0m, \u001b[32m'scikit-learn'\u001b[0m\u001b[1m]\u001b[0m\n",
      "\n",
      "## ComfyUI-Manager: EXECUTE => \u001b[1m[\u001b[0m\u001b[32m'/opt/conda/bin/python'\u001b[0m, \u001b[32m'-m'\u001b[0m, \u001b[32m'uv'\u001b[0m, \u001b[32m'pip'\u001b[0m, \n",
      "\u001b[32m'install'\u001b[0m, \u001b[32m'matplotlib'\u001b[0m\u001b[1m]\u001b[0m\n"
     ]
    },
    {
     "name": "stderr",
     "output_type": "stream",
     "text": [
      "[!] \u001b[2mAudited \u001b[1m1 package\u001b[0m \u001b[2min 14ms\u001b[0m\u001b[0m\n",
      "\u001b[2mUsing Python 3.12.9 environment at: /opt/conda\u001b[0m\n",
      "\n",
      "[ComfyUI-Manager] Queued works are completed.\n",
      "{'install': 1}\n",
      "\n",
      "After restarting ComfyUI, please refresh the browser.\n",
      "\n",
      "[ComfyUI-Manager] Queued works are completed.\n",
      "{'install': 1}\n",
      "\n",
      "After restarting ComfyUI, please refresh the browser.\n"
     ]
    },
    {
     "name": "stdout",
     "output_type": "stream",
     "text": [
      "\n",
      "Restarting... [Legacy Mode]\n",
      "\n",
      "\n",
      "Command: ['/opt/conda/bin/python', './ComfyUI/main.py', '--preview-method', 'auto', '--enable-cors-header', '--use-pytorch-cross-attention']\n"
     ]
    },
    {
     "name": "stderr",
     "output_type": "stream",
     "text": [
      "\u001b[2mUsing Python 3.12.9 environment at: /opt/conda\u001b[0m\n",
      "\u001b[2mUsing Python 3.12.9 environment at: /opt/conda\u001b[0m\n",
      "\u001b[2mUsing Python 3.12.9 environment at: /opt/conda\u001b[0m\n",
      "\n",
      "Prestartup times for custom nodes:\n",
      "   0.4 seconds: /home/sagemaker-user/ComfyUI/custom_nodes/ComfyUI-Manager\n",
      "\n"
     ]
    },
    {
     "name": "stdout",
     "output_type": "stream",
     "text": [
      "[START] Security scan\n",
      "[DONE] Security scan\n",
      "## ComfyUI-Manager: installing dependencies done.\n",
      "** ComfyUI startup time: 2025-07-18 07:11:54.288\n",
      "** Platform: Linux\n",
      "** Python version: 3.12.9 | packaged by conda-forge | (main, Feb 14 2025, 08:00:06) [GCC 13.3.0]\n",
      "** Python executable: /opt/conda/bin/python\n",
      "** ComfyUI Path: /home/sagemaker-user/ComfyUI\n",
      "** ComfyUI Base Folder Path: /home/sagemaker-user/ComfyUI\n",
      "** User directory: /home/sagemaker-user/ComfyUI/user\n",
      "** ComfyUI-Manager config path: /home/sagemaker-user/ComfyUI/user/default/ComfyUI-Manager/config.ini\n",
      "** Log path: /home/sagemaker-user/ComfyUI/user/comfyui.log\n"
     ]
    },
    {
     "name": "stderr",
     "output_type": "stream",
     "text": [
      "Checkpoint files will always be loaded safely.\n",
      "Total VRAM 22503 MB, total RAM 31737 MB\n",
      "pytorch version: 2.7.1+cu126\n",
      "Set vram state to: NORMAL_VRAM\n",
      "Device: cuda:0 NVIDIA A10G : cudaMallocAsync\n",
      "Using pytorch attention\n",
      "Python version: 3.12.9 | packaged by conda-forge | (main, Feb 14 2025, 08:00:06) [GCC 13.3.0]\n",
      "ComfyUI version: 0.3.44\n",
      "ComfyUI frontend version: 1.23.4\n",
      "[Prompt Server] web root: /opt/conda/lib/python3.12/site-packages/comfyui_frontend_package/static\n",
      "### Loading: ComfyUI-Manager (V3.34)\n",
      "[ComfyUI-Manager] network_mode: public\n",
      "[ComfyUI-Manager] Since --preview-method is set, ComfyUI-Manager's preview method feature will be ignored.\n",
      "### ComfyUI Version: v0.3.44-26-g650838fd | Released on '2025-07-17'\n",
      "[ComfyUI-Manager] default cache updated: https://raw.githubusercontent.com/ltdrdata/ComfyUI-Manager/main/alter-list.json\n",
      "[ComfyUI-Manager] default cache updated: https://raw.githubusercontent.com/ltdrdata/ComfyUI-Manager/main/model-list.json\n",
      "[ComfyUI-Manager] default cache updated: https://raw.githubusercontent.com/ltdrdata/ComfyUI-Manager/main/custom-node-list.json\n",
      "\u001b[36;20m[/home/sagemaker-user/ComfyUI/custom_nodes/comfyui_controlnet_aux] | INFO -> Using ckpts path: /home/sagemaker-user/ComfyUI/custom_nodes/comfyui_controlnet_aux/ckpts\u001b[0m\n",
      "[ComfyUI-Manager] default cache updated: https://raw.githubusercontent.com/ltdrdata/ComfyUI-Manager/main/extension-node-map.json\n",
      "\u001b[36;20m[/home/sagemaker-user/ComfyUI/custom_nodes/comfyui_controlnet_aux] | INFO -> Using symlinks: False\u001b[0m\n",
      "\u001b[36;20m[/home/sagemaker-user/ComfyUI/custom_nodes/comfyui_controlnet_aux] | INFO -> Using ort providers: ['CUDAExecutionProvider', 'DirectMLExecutionProvider', 'OpenVINOExecutionProvider', 'ROCMExecutionProvider', 'CPUExecutionProvider', 'CoreMLExecutionProvider']\u001b[0m\n",
      "[ComfyUI-Manager] default cache updated: https://raw.githubusercontent.com/ltdrdata/ComfyUI-Manager/main/github-stats.json\n"
     ]
    },
    {
     "name": "stdout",
     "output_type": "stream",
     "text": [
      "DWPose: Onnxruntime with acceleration providers detected\n"
     ]
    },
    {
     "name": "stderr",
     "output_type": "stream",
     "text": [
      "\n",
      "Import times for custom nodes:\n",
      "   0.0 seconds: /home/sagemaker-user/ComfyUI/custom_nodes/websocket_image_save.py\n",
      "   0.0 seconds: /home/sagemaker-user/ComfyUI/custom_nodes/comfyui_ipadapter_plus\n",
      "   0.1 seconds: /home/sagemaker-user/ComfyUI/custom_nodes/ComfyUI-Manager\n",
      "   0.6 seconds: /home/sagemaker-user/ComfyUI/custom_nodes/comfyui_controlnet_aux\n",
      "\n",
      "Context impl SQLiteImpl.\n",
      "Will assume non-transactional DDL.\n",
      "No target revision found.\n",
      "Starting server\n",
      "\n",
      "To see the GUI go to: http://127.0.0.1:8188\n"
     ]
    },
    {
     "name": "stdout",
     "output_type": "stream",
     "text": [
      "FETCH ComfyRegistry Data: 5/92\n",
      "FETCH ComfyRegistry Data: 10/92\n",
      "FETCH ComfyRegistry Data: 15/92\n",
      "FETCH ComfyRegistry Data: 20/92\n",
      "FETCH ComfyRegistry Data: 25/92\n",
      "FETCH ComfyRegistry Data: 30/92\n",
      "FETCH ComfyRegistry Data: 35/92\n",
      "FETCH ComfyRegistry Data: 40/92\n",
      "FETCH ComfyRegistry Data: 45/92\n",
      "FETCH ComfyRegistry Data: 50/92\n",
      "FETCH ComfyRegistry Data: 55/92\n",
      "FETCH ComfyRegistry Data: 60/92\n",
      "FETCH ComfyRegistry Data: 65/92\n",
      "FETCH ComfyRegistry Data: 70/92\n",
      "FETCH ComfyRegistry Data: 75/92\n",
      "FETCH ComfyRegistry Data: 80/92\n"
     ]
    },
    {
     "name": "stderr",
     "output_type": "stream",
     "text": [
      "100%|██████████| 113k/113k [00:00<00:00, 27.4MB/s]\n",
      "Extracted zip file to /home/sagemaker-user/ComfyUI/custom_nodes/comfyui-rmbg\n",
      "\u001b[2mUsing Python 3.12.9 environment at: /opt/conda\u001b[0m\n",
      "[!] \u001b[2mUsing Python 3.12.9 environment at: /opt/conda\u001b[0m\n",
      "[!] \u001b[2mAudited \u001b[1m1 package\u001b[0m \u001b[2min 14ms\u001b[0m\u001b[0m\n",
      "[!] \u001b[2mUsing Python 3.12.9 environment at: /opt/conda\u001b[0m\n",
      "[!] \u001b[2mAudited \u001b[1m1 package\u001b[0m \u001b[2min 13ms\u001b[0m\u001b[0m\n",
      "[!] \u001b[2mUsing Python 3.12.9 environment at: /opt/conda\u001b[0m\n"
     ]
    },
    {
     "name": "stdout",
     "output_type": "stream",
     "text": [
      "Install: pip packages\n",
      "\u001b[1m[\u001b[0mComfyUI-Manager\u001b[1m]\u001b[0m skip black listed pip installation: \u001b[32m'torch>=2.0.0'\u001b[0m\n",
      "\u001b[1m[\u001b[0mComfyUI-Manager\u001b[1m]\u001b[0m skip black listed pip installation: \u001b[32m'torchvision>=0.15.0'\u001b[0m\n",
      "\n",
      "## ComfyUI-Manager: EXECUTE => \u001b[1m[\u001b[0m\u001b[32m'/opt/conda/bin/python'\u001b[0m, \u001b[32m'-m'\u001b[0m, \u001b[32m'uv'\u001b[0m, \u001b[32m'pip'\u001b[0m, \n",
      "\u001b[32m'install'\u001b[0m, \u001b[32m'Pillow>=9.0.0'\u001b[0m\u001b[1m]\u001b[0m\n",
      "\n",
      "## ComfyUI-Manager: EXECUTE => \u001b[1m[\u001b[0m\u001b[32m'/opt/conda/bin/python'\u001b[0m, \u001b[32m'-m'\u001b[0m, \u001b[32m'uv'\u001b[0m, \u001b[32m'pip'\u001b[0m, \n",
      "\u001b[32m'install'\u001b[0m, \u001b[32m'numpy>=1.22.0'\u001b[0m\u001b[1m]\u001b[0m\n",
      "FETCH ComfyRegistry Data: 85/92\n",
      "\n",
      "## ComfyUI-Manager: EXECUTE => \u001b[1m[\u001b[0m\u001b[32m'/opt/conda/bin/python'\u001b[0m, \u001b[32m'-m'\u001b[0m, \u001b[32m'uv'\u001b[0m, \u001b[32m'pip'\u001b[0m, \n",
      "\u001b[32m'install'\u001b[0m, \u001b[32m'huggingface-hub>=0.19.0'\u001b[0m\u001b[1m]\u001b[0m\n",
      "\n",
      "## ComfyUI-Manager: EXECUTE => \u001b[1m[\u001b[0m\u001b[32m'/opt/conda/bin/python'\u001b[0m, \u001b[32m'-m'\u001b[0m, \u001b[32m'uv'\u001b[0m, \u001b[32m'pip'\u001b[0m, \n",
      "\u001b[32m'install'\u001b[0m, \u001b[32m'transformers>=4.35.0'\u001b[0m\u001b[1m]\u001b[0m\n"
     ]
    },
    {
     "name": "stderr",
     "output_type": "stream",
     "text": [
      "[!] \u001b[2mAudited \u001b[1m1 package\u001b[0m \u001b[2min 14ms\u001b[0m\u001b[0m\n",
      "[!] \u001b[2mUsing Python 3.12.9 environment at: /opt/conda\u001b[0m\n",
      "[!] \u001b[2mAudited \u001b[1m1 package\u001b[0m \u001b[2min 15ms\u001b[0m\u001b[0m\n",
      "[!] \u001b[2mUsing Python 3.12.9 environment at: /opt/conda\u001b[0m\n",
      "[!] \u001b[2mAudited \u001b[1m1 package\u001b[0m \u001b[2min 13ms\u001b[0m\u001b[0m\n",
      "[!] \u001b[2mUsing Python 3.12.9 environment at: /opt/conda\u001b[0m\n"
     ]
    },
    {
     "name": "stdout",
     "output_type": "stream",
     "text": [
      "\n",
      "## ComfyUI-Manager: EXECUTE => \u001b[1m[\u001b[0m\u001b[32m'/opt/conda/bin/python'\u001b[0m, \u001b[32m'-m'\u001b[0m, \u001b[32m'uv'\u001b[0m, \u001b[32m'pip'\u001b[0m, \n",
      "\u001b[32m'install'\u001b[0m, \u001b[32m'safetensors>=0.3.0'\u001b[0m\u001b[1m]\u001b[0m\n",
      "\n",
      "## ComfyUI-Manager: EXECUTE => \u001b[1m[\u001b[0m\u001b[32m'/opt/conda/bin/python'\u001b[0m, \u001b[32m'-m'\u001b[0m, \u001b[32m'uv'\u001b[0m, \u001b[32m'pip'\u001b[0m, \n",
      "\u001b[32m'install'\u001b[0m, \u001b[32m'transparent-background>=1.2.4'\u001b[0m\u001b[1m]\u001b[0m\n"
     ]
    },
    {
     "name": "stderr",
     "output_type": "stream",
     "text": [
      "[!] \u001b[2mResolved \u001b[1m63 packages\u001b[0m \u001b[2min 525ms\u001b[0m\u001b[0m\n",
      "[!] \u001b[2mPrepared \u001b[1m4 packages\u001b[0m \u001b[2min 267ms\u001b[0m\u001b[0m\n",
      "[!] \u001b[2mUninstalled \u001b[1m1 package\u001b[0m \u001b[2min 44ms\u001b[0m\u001b[0m\n",
      "[!] \u001b[1m\u001b[33mwarning\u001b[39m\u001b[0m\u001b[1m:\u001b[0m \u001b[1mFailed to hardlink files; falling back to full copy. This may lead to degraded performance.\n",
      "[!]          If the cache and target directories are on different filesystems, hardlinking may not be supported.\n",
      "[!]          If this is intentional, set `export UV_LINK_MODE=copy` or use `--link-mode=copy` to suppress this warning.\u001b[0m\n",
      "[!] \u001b[2mInstalled \u001b[1m4 packages\u001b[0m \u001b[2min 105ms\u001b[0m\u001b[0m\n",
      "[!]  \u001b[32m+\u001b[39m \u001b[1measydict\u001b[0m\u001b[2m==1.13\u001b[0m\n",
      "[!]  \u001b[31m-\u001b[39m \u001b[1mnumpy\u001b[0m\u001b[2m==1.26.4\u001b[0m\n",
      "[!]  \u001b[32m+\u001b[39m \u001b[1mnumpy\u001b[0m\u001b[2m==2.2.6\u001b[0m\n",
      "[!]  \u001b[32m+\u001b[39m \u001b[1mtransparent-background\u001b[0m\u001b[2m==1.3.4\u001b[0m\n",
      "[!]  \u001b[32m+\u001b[39m \u001b[1mwget\u001b[0m\u001b[2m==3.2\u001b[0m\n",
      "[!] \u001b[2mUsing Python 3.12.9 environment at: /opt/conda\u001b[0m\n"
     ]
    },
    {
     "name": "stdout",
     "output_type": "stream",
     "text": [
      "\n",
      "## ComfyUI-Manager: EXECUTE => \u001b[1m[\u001b[0m\u001b[32m'/opt/conda/bin/python'\u001b[0m, \u001b[32m'-m'\u001b[0m, \u001b[32m'uv'\u001b[0m, \u001b[32m'pip'\u001b[0m, \n",
      "\u001b[32m'install'\u001b[0m, \u001b[32m'tqdm>=4.65.0'\u001b[0m\u001b[1m]\u001b[0m\n",
      "\n",
      "## ComfyUI-Manager: EXECUTE => \u001b[1m[\u001b[0m\u001b[32m'/opt/conda/bin/python'\u001b[0m, \u001b[32m'-m'\u001b[0m, \u001b[32m'uv'\u001b[0m, \u001b[32m'pip'\u001b[0m, \n",
      "\u001b[32m'install'\u001b[0m, \u001b[32m'segment-anything>=1.0'\u001b[0m\u001b[1m]\u001b[0m\n",
      "\n",
      "## ComfyUI-Manager: EXECUTE => \u001b[1m[\u001b[0m\u001b[32m'/opt/conda/bin/python'\u001b[0m, \u001b[32m'-m'\u001b[0m, \u001b[32m'uv'\u001b[0m, \u001b[32m'pip'\u001b[0m, \n",
      "\u001b[32m'install'\u001b[0m, \u001b[32m'groundingdino-py>=0.4.0'\u001b[0m\u001b[1m]\u001b[0m\n"
     ]
    },
    {
     "name": "stderr",
     "output_type": "stream",
     "text": [
      "[!] \u001b[2mAudited \u001b[1m1 package\u001b[0m \u001b[2min 14ms\u001b[0m\u001b[0m\n",
      "[!] \u001b[2mUsing Python 3.12.9 environment at: /opt/conda\u001b[0m\n",
      "[!] \u001b[2mResolved \u001b[1m1 package\u001b[0m \u001b[2min 17ms\u001b[0m\u001b[0m\n",
      "[!] \u001b[2mPrepared \u001b[1m1 package\u001b[0m \u001b[2min 4ms\u001b[0m\u001b[0m\n",
      "[!] \u001b[1m\u001b[33mwarning\u001b[39m\u001b[0m\u001b[1m:\u001b[0m \u001b[1mFailed to hardlink files; falling back to full copy. This may lead to degraded performance.\n",
      "[!]          If the cache and target directories are on different filesystems, hardlinking may not be supported.\n",
      "[!]          If this is intentional, set `export UV_LINK_MODE=copy` or use `--link-mode=copy` to suppress this warning.\u001b[0m\n",
      "[!] \u001b[2mInstalled \u001b[1m1 package\u001b[0m \u001b[2min 4ms\u001b[0m\u001b[0m\n",
      "[!]  \u001b[32m+\u001b[39m \u001b[1msegment-anything\u001b[0m\u001b[2m==1.0\u001b[0m\n",
      "[!] \u001b[2mUsing Python 3.12.9 environment at: /opt/conda\u001b[0m\n",
      "[!] \u001b[2mResolved \u001b[1m58 packages\u001b[0m \u001b[2min 548ms\u001b[0m\u001b[0m\n",
      "[!] \u001b[2mPrepared \u001b[1m3 packages\u001b[0m \u001b[2min 221ms\u001b[0m\u001b[0m\n",
      "[!] \u001b[1m\u001b[33mwarning\u001b[39m\u001b[0m\u001b[1m:\u001b[0m \u001b[1mFailed to hardlink files; falling back to full copy. This may lead to degraded performance.\n",
      "[!]          If the cache and target directories are on different filesystems, hardlinking may not be supported.\n",
      "[!]          If this is intentional, set `export UV_LINK_MODE=copy` or use `--link-mode=copy` to suppress this warning.\u001b[0m\n",
      "[!] \u001b[2mInstalled \u001b[1m3 packages\u001b[0m \u001b[2min 5ms\u001b[0m\u001b[0m\n",
      "[!]  \u001b[32m+\u001b[39m \u001b[1mgroundingdino-py\u001b[0m\u001b[2m==0.4.0\u001b[0m\n",
      "[!]  \u001b[32m+\u001b[39m \u001b[1mpycocotools\u001b[0m\u001b[2m==2.0.10\u001b[0m\n",
      "[!]  \u001b[32m+\u001b[39m \u001b[1msupervision\u001b[0m\u001b[2m==0.6.0\u001b[0m\n",
      "[!] \u001b[2mUsing Python 3.12.9 environment at: /opt/conda\u001b[0m\n",
      "[!] \u001b[2mAudited \u001b[1m1 package\u001b[0m \u001b[2min 14ms\u001b[0m\u001b[0m\n",
      "[!] \u001b[2mUsing Python 3.12.9 environment at: /opt/conda\u001b[0m\n",
      "[!] \u001b[2mAudited \u001b[1m1 package\u001b[0m \u001b[2min 14ms\u001b[0m\u001b[0m\n",
      "[!] \u001b[2mUsing Python 3.12.9 environment at: /opt/conda\u001b[0m\n",
      "[!] \u001b[2mResolved \u001b[1m9 packages\u001b[0m \u001b[2min 26ms\u001b[0m\u001b[0m\n"
     ]
    },
    {
     "name": "stdout",
     "output_type": "stream",
     "text": [
      "\n",
      "## ComfyUI-Manager: EXECUTE => \u001b[1m[\u001b[0m\u001b[32m'/opt/conda/bin/python'\u001b[0m, \u001b[32m'-m'\u001b[0m, \u001b[32m'uv'\u001b[0m, \u001b[32m'pip'\u001b[0m, \n",
      "\u001b[32m'install'\u001b[0m, \u001b[32m'opencv-python>=4.7.0'\u001b[0m\u001b[1m]\u001b[0m\n",
      "\n",
      "## ComfyUI-Manager: EXECUTE => \u001b[1m[\u001b[0m\u001b[32m'/opt/conda/bin/python'\u001b[0m, \u001b[32m'-m'\u001b[0m, \u001b[32m'uv'\u001b[0m, \u001b[32m'pip'\u001b[0m, \n",
      "\u001b[32m'install'\u001b[0m, \u001b[32m'scipy>=1.10.0'\u001b[0m\u001b[1m]\u001b[0m\n",
      "\n",
      "## ComfyUI-Manager: EXECUTE => \u001b[1m[\u001b[0m\u001b[32m'/opt/conda/bin/python'\u001b[0m, \u001b[32m'-m'\u001b[0m, \u001b[32m'uv'\u001b[0m, \u001b[32m'pip'\u001b[0m, \n",
      "\u001b[32m'install'\u001b[0m, \u001b[32m'onnxruntime>=1.15.0'\u001b[0m\u001b[1m]\u001b[0m\n"
     ]
    },
    {
     "name": "stderr",
     "output_type": "stream",
     "text": [
      "[!] \u001b[2mPrepared \u001b[1m1 package\u001b[0m \u001b[2min 180ms\u001b[0m\u001b[0m\n",
      "[!] \u001b[1m\u001b[33mwarning\u001b[39m\u001b[0m\u001b[1m:\u001b[0m \u001b[1mFailed to hardlink files; falling back to full copy. This may lead to degraded performance.\n",
      "[!]          If the cache and target directories are on different filesystems, hardlinking may not be supported.\n",
      "[!]          If this is intentional, set `export UV_LINK_MODE=copy` or use `--link-mode=copy` to suppress this warning.\u001b[0m\n",
      "[!] \u001b[2mInstalled \u001b[1m1 package\u001b[0m \u001b[2min 60ms\u001b[0m\u001b[0m\n",
      "[!]  \u001b[32m+\u001b[39m \u001b[1monnxruntime\u001b[0m\u001b[2m==1.22.1\u001b[0m\n",
      "[!] \u001b[2mUsing Python 3.12.9 environment at: /opt/conda\u001b[0m\n",
      "[!] \u001b[2mAudited \u001b[1m1 package\u001b[0m \u001b[2min 14ms\u001b[0m\u001b[0m\n",
      "\u001b[2mUsing Python 3.12.9 environment at: /opt/conda\u001b[0m\n",
      "\n",
      "[ComfyUI-Manager] Queued works are completed.\n",
      "{'install': 1}\n",
      "\n",
      "After restarting ComfyUI, please refresh the browser.\n"
     ]
    },
    {
     "name": "stdout",
     "output_type": "stream",
     "text": [
      "\n",
      "## ComfyUI-Manager: EXECUTE => \u001b[1m[\u001b[0m\u001b[32m'/opt/conda/bin/python'\u001b[0m, \u001b[32m'-m'\u001b[0m, \u001b[32m'uv'\u001b[0m, \u001b[32m'pip'\u001b[0m, \n",
      "\u001b[32m'install'\u001b[0m, \u001b[32m'onnxruntime-gpu>=1.15.0'\u001b[0m\u001b[1m]\u001b[0m\n",
      "FETCH ComfyRegistry Data: 90/92\n",
      "FETCH ComfyRegistry Data [DONE]\n",
      "FETCH DATA from: https://raw.githubusercontent.com/ltdrdata/ComfyUI-Manager/main/custom-node-list.json [DONE]\n"
     ]
    },
    {
     "name": "stderr",
     "output_type": "stream",
     "text": [
      "[ComfyUI-Manager] default cache updated: https://api.comfy.org/nodes\n",
      "[ComfyUI-Manager] All startup tasks have been completed.\n"
     ]
    },
    {
     "name": "stdout",
     "output_type": "stream",
     "text": [
      "\n",
      "Restarting... [Legacy Mode]\n",
      "\n",
      "\n",
      "Command: ['/opt/conda/bin/python', './ComfyUI/main.py', '--preview-method', 'auto', '--enable-cors-header', '--use-pytorch-cross-attention']\n"
     ]
    },
    {
     "name": "stderr",
     "output_type": "stream",
     "text": [
      "\u001b[2mUsing Python 3.12.9 environment at: /opt/conda\u001b[0m\n",
      "\u001b[2mUsing Python 3.12.9 environment at: /opt/conda\u001b[0m\n",
      "\u001b[2mUsing Python 3.12.9 environment at: /opt/conda\u001b[0m\n",
      "\n",
      "Prestartup times for custom nodes:\n",
      "   0.4 seconds: /home/sagemaker-user/ComfyUI/custom_nodes/ComfyUI-Manager\n",
      "\n"
     ]
    },
    {
     "name": "stdout",
     "output_type": "stream",
     "text": [
      "[START] Security scan\n",
      "[DONE] Security scan\n",
      "## ComfyUI-Manager: installing dependencies done.\n",
      "** ComfyUI startup time: 2025-07-18 07:12:56.620\n",
      "** Platform: Linux\n",
      "** Python version: 3.12.9 | packaged by conda-forge | (main, Feb 14 2025, 08:00:06) [GCC 13.3.0]\n",
      "** Python executable: /opt/conda/bin/python\n",
      "** ComfyUI Path: /home/sagemaker-user/ComfyUI\n",
      "** ComfyUI Base Folder Path: /home/sagemaker-user/ComfyUI\n",
      "** User directory: /home/sagemaker-user/ComfyUI/user\n",
      "** ComfyUI-Manager config path: /home/sagemaker-user/ComfyUI/user/default/ComfyUI-Manager/config.ini\n",
      "** Log path: /home/sagemaker-user/ComfyUI/user/comfyui.log\n"
     ]
    },
    {
     "name": "stderr",
     "output_type": "stream",
     "text": [
      "Checkpoint files will always be loaded safely.\n",
      "Total VRAM 22503 MB, total RAM 31737 MB\n",
      "pytorch version: 2.7.1+cu126\n",
      "Set vram state to: NORMAL_VRAM\n",
      "Device: cuda:0 NVIDIA A10G : cudaMallocAsync\n",
      "Using pytorch attention\n",
      "Python version: 3.12.9 | packaged by conda-forge | (main, Feb 14 2025, 08:00:06) [GCC 13.3.0]\n",
      "ComfyUI version: 0.3.44\n",
      "ComfyUI frontend version: 1.23.4\n",
      "[Prompt Server] web root: /opt/conda/lib/python3.12/site-packages/comfyui_frontend_package/static\n",
      "### Loading: ComfyUI-Manager (V3.34)\n",
      "[ComfyUI-Manager] network_mode: public\n",
      "[ComfyUI-Manager] Since --preview-method is set, ComfyUI-Manager's preview method feature will be ignored.\n",
      "### ComfyUI Version: v0.3.44-26-g650838fd | Released on '2025-07-17'\n",
      "[ComfyUI-Manager] default cache updated: https://raw.githubusercontent.com/ltdrdata/ComfyUI-Manager/main/alter-list.json\n",
      "[ComfyUI-Manager] default cache updated: https://raw.githubusercontent.com/ltdrdata/ComfyUI-Manager/main/model-list.json\n",
      "\u001b[36;20m[/home/sagemaker-user/ComfyUI/custom_nodes/comfyui_controlnet_aux] | INFO -> Using ckpts path: /home/sagemaker-user/ComfyUI/custom_nodes/comfyui_controlnet_aux/ckpts\u001b[0m\n",
      "\u001b[36;20m[/home/sagemaker-user/ComfyUI/custom_nodes/comfyui_controlnet_aux] | INFO -> Using symlinks: False\u001b[0m\n",
      "\u001b[36;20m[/home/sagemaker-user/ComfyUI/custom_nodes/comfyui_controlnet_aux] | INFO -> Using ort providers: ['CUDAExecutionProvider', 'DirectMLExecutionProvider', 'OpenVINOExecutionProvider', 'ROCMExecutionProvider', 'CPUExecutionProvider', 'CoreMLExecutionProvider']\u001b[0m\n",
      "[ComfyUI-Manager] default cache updated: https://raw.githubusercontent.com/ltdrdata/ComfyUI-Manager/main/custom-node-list.json\n",
      "[ComfyUI-Manager] default cache updated: https://raw.githubusercontent.com/ltdrdata/ComfyUI-Manager/main/extension-node-map.json\n",
      "[ComfyUI-Manager] default cache updated: https://raw.githubusercontent.com/ltdrdata/ComfyUI-Manager/main/github-stats.json\n",
      "2025-07-18 07:13:03.015905: E external/local_xla/xla/stream_executor/cuda/cuda_fft.cc:477] Unable to register cuFFT factory: Attempting to register factory for plugin cuFFT when one has already been registered\n",
      "WARNING: All log messages before absl::InitializeLog() is called are written to STDERR\n",
      "E0000 00:00:1752822783.031559    4891 cuda_dnn.cc:8310] Unable to register cuDNN factory: Attempting to register factory for plugin cuDNN when one has already been registered\n",
      "E0000 00:00:1752822783.036488    4891 cuda_blas.cc:1418] Unable to register cuBLAS factory: Attempting to register factory for plugin cuBLAS when one has already been registered\n",
      "2025-07-18 07:13:03.052169: I tensorflow/core/platform/cpu_feature_guard.cc:210] This TensorFlow binary is optimized to use available CPU instructions in performance-critical operations.\n",
      "To enable the following instructions: SSE4.1 SSE4.2 AVX AVX2 FMA, in other operations, rebuild TensorFlow with the appropriate compiler flags.\n"
     ]
    },
    {
     "name": "stdout",
     "output_type": "stream",
     "text": [
      "Error loading AILab_ClothSegment.py: cannot import name 'runtime_version' from 'google.protobuf' (/opt/conda/lib/python3.12/site-packages/google/protobuf/__init__.py)\n",
      "Error loading AILab_FaceSegment.py: cannot import name 'runtime_version' from 'google.protobuf' (/opt/conda/lib/python3.12/site-packages/google/protobuf/__init__.py)\n",
      "Error loading AILab_FashionSegment.py: cannot import name 'runtime_version' from 'google.protobuf' (/opt/conda/lib/python3.12/site-packages/google/protobuf/__init__.py)\n",
      "Error loading AILab_SegmentV2.py: cannot import name 'runtime_version' from 'google.protobuf' (/opt/conda/lib/python3.12/site-packages/google/protobuf/__init__.py)\n",
      "\u001b[34m[ComfyUI-RMBG]\u001b[0m v\u001b[93m2.5.0\u001b[0m | \u001b[93m23 nodes\u001b[0m \u001b[92mLoaded\u001b[0m\n"
     ]
    },
    {
     "name": "stderr",
     "output_type": "stream",
     "text": [
      "\n",
      "Import times for custom nodes:\n",
      "   0.0 seconds: /home/sagemaker-user/ComfyUI/custom_nodes/websocket_image_save.py\n",
      "   0.0 seconds: /home/sagemaker-user/ComfyUI/custom_nodes/comfyui_ipadapter_plus\n",
      "   0.1 seconds: /home/sagemaker-user/ComfyUI/custom_nodes/ComfyUI-Manager\n",
      "   0.6 seconds: /home/sagemaker-user/ComfyUI/custom_nodes/comfyui_controlnet_aux\n",
      "   1.0 seconds: /home/sagemaker-user/ComfyUI/custom_nodes/comfyui-rmbg\n",
      "\n",
      "Context impl SQLiteImpl.\n",
      "Will assume non-transactional DDL.\n",
      "No target revision found.\n",
      "Starting server\n",
      "\n",
      "To see the GUI go to: http://127.0.0.1:8188\n"
     ]
    },
    {
     "name": "stdout",
     "output_type": "stream",
     "text": [
      "FETCH ComfyRegistry Data: 5/92\n",
      "FETCH ComfyRegistry Data: 10/92\n",
      "FETCH ComfyRegistry Data: 15/92\n",
      "FETCH ComfyRegistry Data: 20/92\n",
      "FETCH ComfyRegistry Data: 25/92\n",
      "FETCH ComfyRegistry Data: 30/92\n",
      "FETCH ComfyRegistry Data: 35/92\n",
      "FETCH ComfyRegistry Data: 40/92\n",
      "FETCH ComfyRegistry Data: 45/92\n",
      "FETCH ComfyRegistry Data: 50/92\n",
      "FETCH ComfyRegistry Data: 55/92\n",
      "FETCH ComfyRegistry Data: 60/92\n",
      "FETCH ComfyRegistry Data: 65/92\n",
      "FETCH ComfyRegistry Data: 70/92\n",
      "FETCH ComfyRegistry Data: 75/92\n",
      "FETCH ComfyRegistry Data: 80/92\n",
      "FETCH ComfyRegistry Data: 85/92\n",
      "[ComfyUI-Manager] The ComfyRegistry cache update is still in progress, so an outdated cache is being used.\n",
      "FETCH DATA from: /home/sagemaker-user/ComfyUI/user/default/ComfyUI-Manager/cache/1514988643_custom-node-list.json [DONE]\n",
      "FETCH DATA from: /home/sagemaker-user/ComfyUI/user/default/ComfyUI-Manager/cache/746607195_github-stats.json [DONE]\n",
      "FETCH DATA from: https://raw.githubusercontent.com/ltdrdata/ComfyUI-Manager/main/extras.json [DONE]\n",
      "FETCH ComfyRegistry Data: 90/92\n",
      "FETCH ComfyRegistry Data [DONE]\n",
      "FETCH DATA from: /home/sagemaker-user/ComfyUI/user/default/ComfyUI-Manager/cache/1742899825_extension-node-map.json [DONE]\n",
      "FETCH DATA from: https://raw.githubusercontent.com/ltdrdata/ComfyUI-Manager/main/custom-node-list.json [DONE]\n"
     ]
    },
    {
     "name": "stderr",
     "output_type": "stream",
     "text": [
      "[ComfyUI-Manager] default cache updated: https://api.comfy.org/nodes\n",
      "[ComfyUI-Manager] All startup tasks have been completed.\n"
     ]
    },
    {
     "name": "stdout",
     "output_type": "stream",
     "text": [
      "FETCH DATA from: /home/sagemaker-user/ComfyUI/custom_nodes/ComfyUI-Manager/custom-node-list.json [DONE]\n",
      "FETCH DATA from: /home/sagemaker-user/ComfyUI/user/default/ComfyUI-Manager/cache/1514988643_custom-node-list.json [DONE]\n",
      "Download: git clone \u001b[32m'https://github.com/Jcd1230/rembg-comfyui-node'\u001b[0m\n",
      "Install: pip packages\n"
     ]
    },
    {
     "name": "stderr",
     "output_type": "stream",
     "text": [
      "100%|██████████| 7.0/7.0 [00:00<00:00, 35.98it/s]\n",
      "\u001b[2mUsing Python 3.12.9 environment at: /opt/conda\u001b[0m\n",
      "[!] \u001b[2mUsing Python 3.12.9 environment at: /opt/conda\u001b[0m\n",
      "[!] \u001b[2mAudited \u001b[1m1 package\u001b[0m \u001b[2min 18ms\u001b[0m\u001b[0m\n",
      "\u001b[2mUsing Python 3.12.9 environment at: /opt/conda\u001b[0m\n",
      "\n",
      "[ComfyUI-Manager] Queued works are completed.\n",
      "{'install': 1}\n",
      "\n",
      "After restarting ComfyUI, please refresh the browser.\n"
     ]
    },
    {
     "name": "stdout",
     "output_type": "stream",
     "text": [
      "\n",
      "## ComfyUI-Manager: EXECUTE => \u001b[1m[\u001b[0m\u001b[32m'/opt/conda/bin/python'\u001b[0m, \u001b[32m'-m'\u001b[0m, \u001b[32m'uv'\u001b[0m, \u001b[32m'pip'\u001b[0m, \n",
      "\u001b[32m'install'\u001b[0m, \u001b[32m'rembg'\u001b[0m\u001b[1m]\u001b[0m\n",
      "Installation was successful.\n",
      "\n",
      "Restarting... [Legacy Mode]\n",
      "\n",
      "\n",
      "Command: ['/opt/conda/bin/python', './ComfyUI/main.py', '--preview-method', 'auto', '--enable-cors-header', '--use-pytorch-cross-attention']\n"
     ]
    },
    {
     "name": "stderr",
     "output_type": "stream",
     "text": [
      "\u001b[2mUsing Python 3.12.9 environment at: /opt/conda\u001b[0m\n",
      "\u001b[2mUsing Python 3.12.9 environment at: /opt/conda\u001b[0m\n",
      "\u001b[2mUsing Python 3.12.9 environment at: /opt/conda\u001b[0m\n",
      "\n",
      "Prestartup times for custom nodes:\n",
      "   0.4 seconds: /home/sagemaker-user/ComfyUI/custom_nodes/ComfyUI-Manager\n",
      "\n"
     ]
    },
    {
     "name": "stdout",
     "output_type": "stream",
     "text": [
      "[START] Security scan\n",
      "[DONE] Security scan\n",
      "## ComfyUI-Manager: installing dependencies done.\n",
      "** ComfyUI startup time: 2025-07-18 07:14:30.732\n",
      "** Platform: Linux\n",
      "** Python version: 3.12.9 | packaged by conda-forge | (main, Feb 14 2025, 08:00:06) [GCC 13.3.0]\n",
      "** Python executable: /opt/conda/bin/python\n",
      "** ComfyUI Path: /home/sagemaker-user/ComfyUI\n",
      "** ComfyUI Base Folder Path: /home/sagemaker-user/ComfyUI\n",
      "** User directory: /home/sagemaker-user/ComfyUI/user\n",
      "** ComfyUI-Manager config path: /home/sagemaker-user/ComfyUI/user/default/ComfyUI-Manager/config.ini\n",
      "** Log path: /home/sagemaker-user/ComfyUI/user/comfyui.log\n"
     ]
    },
    {
     "name": "stderr",
     "output_type": "stream",
     "text": [
      "Checkpoint files will always be loaded safely.\n",
      "Total VRAM 22503 MB, total RAM 31737 MB\n",
      "pytorch version: 2.7.1+cu126\n",
      "Set vram state to: NORMAL_VRAM\n",
      "Device: cuda:0 NVIDIA A10G : cudaMallocAsync\n",
      "Using pytorch attention\n",
      "Python version: 3.12.9 | packaged by conda-forge | (main, Feb 14 2025, 08:00:06) [GCC 13.3.0]\n",
      "ComfyUI version: 0.3.44\n",
      "ComfyUI frontend version: 1.23.4\n",
      "[Prompt Server] web root: /opt/conda/lib/python3.12/site-packages/comfyui_frontend_package/static\n",
      "### Loading: ComfyUI-Manager (V3.34)\n",
      "[ComfyUI-Manager] network_mode: public\n",
      "[ComfyUI-Manager] Since --preview-method is set, ComfyUI-Manager's preview method feature will be ignored.\n",
      "### ComfyUI Version: v0.3.44-26-g650838fd | Released on '2025-07-17'\n",
      "[ComfyUI-Manager] default cache updated: https://raw.githubusercontent.com/ltdrdata/ComfyUI-Manager/main/alter-list.json\n",
      "\u001b[36;20m[/home/sagemaker-user/ComfyUI/custom_nodes/comfyui_controlnet_aux] | INFO -> Using ckpts path: /home/sagemaker-user/ComfyUI/custom_nodes/comfyui_controlnet_aux/ckpts\u001b[0m\n",
      "\u001b[36;20m[/home/sagemaker-user/ComfyUI/custom_nodes/comfyui_controlnet_aux] | INFO -> Using symlinks: False\u001b[0m\n",
      "\u001b[36;20m[/home/sagemaker-user/ComfyUI/custom_nodes/comfyui_controlnet_aux] | INFO -> Using ort providers: ['CUDAExecutionProvider', 'DirectMLExecutionProvider', 'OpenVINOExecutionProvider', 'ROCMExecutionProvider', 'CPUExecutionProvider', 'CoreMLExecutionProvider']\u001b[0m\n",
      "[ComfyUI-Manager] default cache updated: https://raw.githubusercontent.com/ltdrdata/ComfyUI-Manager/main/custom-node-list.json\n",
      "[ComfyUI-Manager] default cache updated: https://raw.githubusercontent.com/ltdrdata/ComfyUI-Manager/main/model-list.json\n",
      "[ComfyUI-Manager] default cache updated: https://raw.githubusercontent.com/ltdrdata/ComfyUI-Manager/main/extension-node-map.json\n",
      "[ComfyUI-Manager] default cache updated: https://raw.githubusercontent.com/ltdrdata/ComfyUI-Manager/main/github-stats.json\n",
      "2025-07-18 07:14:36.641661: E external/local_xla/xla/stream_executor/cuda/cuda_fft.cc:477] Unable to register cuFFT factory: Attempting to register factory for plugin cuFFT when one has already been registered\n",
      "WARNING: All log messages before absl::InitializeLog() is called are written to STDERR\n",
      "E0000 00:00:1752822876.657085    4891 cuda_dnn.cc:8310] Unable to register cuDNN factory: Attempting to register factory for plugin cuDNN when one has already been registered\n",
      "E0000 00:00:1752822876.661890    4891 cuda_blas.cc:1418] Unable to register cuBLAS factory: Attempting to register factory for plugin cuBLAS when one has already been registered\n",
      "2025-07-18 07:14:36.677163: I tensorflow/core/platform/cpu_feature_guard.cc:210] This TensorFlow binary is optimized to use available CPU instructions in performance-critical operations.\n",
      "To enable the following instructions: SSE4.1 SSE4.2 AVX AVX2 FMA, in other operations, rebuild TensorFlow with the appropriate compiler flags.\n"
     ]
    },
    {
     "name": "stdout",
     "output_type": "stream",
     "text": [
      "Error loading AILab_ClothSegment.py: cannot import name 'runtime_version' from 'google.protobuf' (/opt/conda/lib/python3.12/site-packages/google/protobuf/__init__.py)\n",
      "Error loading AILab_FaceSegment.py: cannot import name 'runtime_version' from 'google.protobuf' (/opt/conda/lib/python3.12/site-packages/google/protobuf/__init__.py)\n",
      "Error loading AILab_FashionSegment.py: cannot import name 'runtime_version' from 'google.protobuf' (/opt/conda/lib/python3.12/site-packages/google/protobuf/__init__.py)\n",
      "Error loading AILab_SegmentV2.py: cannot import name 'runtime_version' from 'google.protobuf' (/opt/conda/lib/python3.12/site-packages/google/protobuf/__init__.py)\n",
      "\u001b[34m[ComfyUI-RMBG]\u001b[0m v\u001b[93m2.5.0\u001b[0m | \u001b[93m23 nodes\u001b[0m \u001b[92mLoaded\u001b[0m\n"
     ]
    },
    {
     "name": "stderr",
     "output_type": "stream",
     "text": [
      "\n",
      "Import times for custom nodes:\n",
      "   0.0 seconds: /home/sagemaker-user/ComfyUI/custom_nodes/websocket_image_save.py\n",
      "   0.0 seconds: /home/sagemaker-user/ComfyUI/custom_nodes/comfyui_ipadapter_plus\n",
      "   0.2 seconds: /home/sagemaker-user/ComfyUI/custom_nodes/ComfyUI-Manager\n",
      "   0.4 seconds: /home/sagemaker-user/ComfyUI/custom_nodes/comfyui_controlnet_aux\n",
      "   0.7 seconds: /home/sagemaker-user/ComfyUI/custom_nodes/rembg-comfyui-node\n",
      "   0.8 seconds: /home/sagemaker-user/ComfyUI/custom_nodes/comfyui-rmbg\n",
      "\n",
      "Context impl SQLiteImpl.\n",
      "Will assume non-transactional DDL.\n",
      "No target revision found.\n",
      "Starting server\n",
      "\n",
      "To see the GUI go to: http://127.0.0.1:8188\n"
     ]
    },
    {
     "name": "stdout",
     "output_type": "stream",
     "text": [
      "FETCH ComfyRegistry Data: 5/92\n",
      "FETCH ComfyRegistry Data: 10/92\n",
      "FETCH ComfyRegistry Data: 15/92\n",
      "FETCH ComfyRegistry Data: 20/92\n",
      "FETCH ComfyRegistry Data: 25/92\n",
      "FETCH ComfyRegistry Data: 30/92\n",
      "[ComfyUI-Manager] The ComfyRegistry cache update is still in progress, so an outdated cache is being used.\n",
      "FETCH DATA from: /home/sagemaker-user/ComfyUI/user/default/ComfyUI-Manager/cache/1514988643_custom-node-list.json [DONE]\n",
      "FETCH DATA from: /home/sagemaker-user/ComfyUI/user/default/ComfyUI-Manager/cache/746607195_github-stats.json [DONE]\n",
      "FETCH DATA from: /home/sagemaker-user/ComfyUI/user/default/ComfyUI-Manager/cache/832903789_extras.json [DONE]\n",
      "FETCH ComfyRegistry Data: 35/92\n",
      "FETCH DATA from: /home/sagemaker-user/ComfyUI/user/default/ComfyUI-Manager/cache/1742899825_extension-node-map.json [DONE]\n",
      "FETCH ComfyRegistry Data: 40/92\n",
      "FETCH ComfyRegistry Data: 45/92\n",
      "FETCH ComfyRegistry Data: 50/92\n",
      "FETCH ComfyRegistry Data: 55/92\n",
      "FETCH ComfyRegistry Data: 60/92\n",
      "FETCH ComfyRegistry Data: 65/92\n",
      "FETCH ComfyRegistry Data: 70/92\n",
      "FETCH ComfyRegistry Data: 75/92\n",
      "FETCH ComfyRegistry Data: 80/92\n",
      "FETCH ComfyRegistry Data: 85/92\n",
      "FETCH ComfyRegistry Data: 90/92\n",
      "FETCH ComfyRegistry Data [DONE]\n",
      "FETCH DATA from: https://raw.githubusercontent.com/ltdrdata/ComfyUI-Manager/main/custom-node-list.json [DONE]\n"
     ]
    },
    {
     "name": "stderr",
     "output_type": "stream",
     "text": [
      "[ComfyUI-Manager] default cache updated: https://api.comfy.org/nodes\n",
      "[ComfyUI-Manager] All startup tasks have been completed.\n"
     ]
    },
    {
     "name": "stdout",
     "output_type": "stream",
     "text": [
      "[ComfyUI-Manager] The ComfyRegistry cache update is still in progress, so an outdated cache is being used.\n",
      "FETCH DATA from: /home/sagemaker-user/ComfyUI/user/default/ComfyUI-Manager/cache/1514988643_custom-node-list.json [DONE]\n",
      "FETCH DATA from: /home/sagemaker-user/ComfyUI/user/default/ComfyUI-Manager/cache/746607195_github-stats.json [DONE]\n",
      "FETCH DATA from: /home/sagemaker-user/ComfyUI/user/default/ComfyUI-Manager/cache/832903789_extras.json [DONE]\n",
      "FETCH DATA from: /home/sagemaker-user/ComfyUI/user/default/ComfyUI-Manager/cache/1742899825_extension-node-map.json [DONE]\n"
     ]
    },
    {
     "name": "stderr",
     "output_type": "stream",
     "text": [
      "100%|██████████| 4.89k/4.89k [00:00<00:00, 9.97MB/s]\n",
      "Extracted zip file to /home/sagemaker-user/ComfyUI/custom_nodes/comfyui-inspyrenet-rembg\n",
      "\u001b[2mUsing Python 3.12.9 environment at: /opt/conda\u001b[0m\n",
      "[!] \u001b[2mUsing Python 3.12.9 environment at: /opt/conda\u001b[0m\n",
      "[!] \u001b[2mAudited \u001b[1m1 package\u001b[0m \u001b[2min 21ms\u001b[0m\u001b[0m\n",
      "\u001b[2mUsing Python 3.12.9 environment at: /opt/conda\u001b[0m\n",
      "\n",
      "[ComfyUI-Manager] Queued works are completed.\n",
      "{'install': 1}\n",
      "\n",
      "After restarting ComfyUI, please refresh the browser.\n"
     ]
    },
    {
     "name": "stdout",
     "output_type": "stream",
     "text": [
      "Install: pip packages\n",
      "\n",
      "## ComfyUI-Manager: EXECUTE => \u001b[1m[\u001b[0m\u001b[32m'/opt/conda/bin/python'\u001b[0m, \u001b[32m'-m'\u001b[0m, \u001b[32m'uv'\u001b[0m, \u001b[32m'pip'\u001b[0m, \n",
      "\u001b[32m'install'\u001b[0m, \u001b[32m'transparent-background'\u001b[0m\u001b[1m]\u001b[0m\n",
      "\n",
      "Restarting... [Legacy Mode]\n",
      "\n",
      "\n",
      "Command: ['/opt/conda/bin/python', './ComfyUI/main.py', '--preview-method', 'auto', '--enable-cors-header', '--use-pytorch-cross-attention']\n"
     ]
    },
    {
     "name": "stderr",
     "output_type": "stream",
     "text": [
      "\u001b[2mUsing Python 3.12.9 environment at: /opt/conda\u001b[0m\n",
      "\u001b[2mUsing Python 3.12.9 environment at: /opt/conda\u001b[0m\n",
      "\u001b[2mUsing Python 3.12.9 environment at: /opt/conda\u001b[0m\n",
      "\n",
      "Prestartup times for custom nodes:\n",
      "   0.4 seconds: /home/sagemaker-user/ComfyUI/custom_nodes/ComfyUI-Manager\n",
      "\n"
     ]
    },
    {
     "name": "stdout",
     "output_type": "stream",
     "text": [
      "[START] Security scan\n",
      "[DONE] Security scan\n",
      "## ComfyUI-Manager: installing dependencies done.\n",
      "** ComfyUI startup time: 2025-07-18 07:16:45.775\n",
      "** Platform: Linux\n",
      "** Python version: 3.12.9 | packaged by conda-forge | (main, Feb 14 2025, 08:00:06) [GCC 13.3.0]\n",
      "** Python executable: /opt/conda/bin/python\n",
      "** ComfyUI Path: /home/sagemaker-user/ComfyUI\n",
      "** ComfyUI Base Folder Path: /home/sagemaker-user/ComfyUI\n",
      "** User directory: /home/sagemaker-user/ComfyUI/user\n",
      "** ComfyUI-Manager config path: /home/sagemaker-user/ComfyUI/user/default/ComfyUI-Manager/config.ini\n",
      "** Log path: /home/sagemaker-user/ComfyUI/user/comfyui.log\n"
     ]
    },
    {
     "name": "stderr",
     "output_type": "stream",
     "text": [
      "Checkpoint files will always be loaded safely.\n",
      "Total VRAM 22503 MB, total RAM 31737 MB\n",
      "pytorch version: 2.7.1+cu126\n",
      "Set vram state to: NORMAL_VRAM\n",
      "Device: cuda:0 NVIDIA A10G : cudaMallocAsync\n",
      "Using pytorch attention\n",
      "Python version: 3.12.9 | packaged by conda-forge | (main, Feb 14 2025, 08:00:06) [GCC 13.3.0]\n",
      "ComfyUI version: 0.3.44\n",
      "ComfyUI frontend version: 1.23.4\n",
      "[Prompt Server] web root: /opt/conda/lib/python3.12/site-packages/comfyui_frontend_package/static\n",
      "### Loading: ComfyUI-Manager (V3.34)\n",
      "[ComfyUI-Manager] network_mode: public\n",
      "[ComfyUI-Manager] Since --preview-method is set, ComfyUI-Manager's preview method feature will be ignored.\n",
      "### ComfyUI Version: v0.3.44-26-g650838fd | Released on '2025-07-17'\n",
      "[ComfyUI-Manager] default cache updated: https://raw.githubusercontent.com/ltdrdata/ComfyUI-Manager/main/alter-list.json\n",
      "[ComfyUI-Manager] default cache updated: https://raw.githubusercontent.com/ltdrdata/ComfyUI-Manager/main/model-list.json\n",
      "\u001b[36;20m[/home/sagemaker-user/ComfyUI/custom_nodes/comfyui_controlnet_aux] | INFO -> Using ckpts path: /home/sagemaker-user/ComfyUI/custom_nodes/comfyui_controlnet_aux/ckpts\u001b[0m\n",
      "\u001b[36;20m[/home/sagemaker-user/ComfyUI/custom_nodes/comfyui_controlnet_aux] | INFO -> Using symlinks: False\u001b[0m\n",
      "\u001b[36;20m[/home/sagemaker-user/ComfyUI/custom_nodes/comfyui_controlnet_aux] | INFO -> Using ort providers: ['CUDAExecutionProvider', 'DirectMLExecutionProvider', 'OpenVINOExecutionProvider', 'ROCMExecutionProvider', 'CPUExecutionProvider', 'CoreMLExecutionProvider']\u001b[0m\n",
      "[ComfyUI-Manager] default cache updated: https://raw.githubusercontent.com/ltdrdata/ComfyUI-Manager/main/extension-node-map.json\n",
      "[ComfyUI-Manager] default cache updated: https://raw.githubusercontent.com/ltdrdata/ComfyUI-Manager/main/github-stats.json\n",
      "[ComfyUI-Manager] default cache updated: https://raw.githubusercontent.com/ltdrdata/ComfyUI-Manager/main/custom-node-list.json\n",
      "2025-07-18 07:16:51.749822: E external/local_xla/xla/stream_executor/cuda/cuda_fft.cc:477] Unable to register cuFFT factory: Attempting to register factory for plugin cuFFT when one has already been registered\n",
      "WARNING: All log messages before absl::InitializeLog() is called are written to STDERR\n",
      "E0000 00:00:1752823011.765348    4891 cuda_dnn.cc:8310] Unable to register cuDNN factory: Attempting to register factory for plugin cuDNN when one has already been registered\n",
      "E0000 00:00:1752823011.770254    4891 cuda_blas.cc:1418] Unable to register cuBLAS factory: Attempting to register factory for plugin cuBLAS when one has already been registered\n",
      "2025-07-18 07:16:51.785591: I tensorflow/core/platform/cpu_feature_guard.cc:210] This TensorFlow binary is optimized to use available CPU instructions in performance-critical operations.\n",
      "To enable the following instructions: SSE4.1 SSE4.2 AVX AVX2 FMA, in other operations, rebuild TensorFlow with the appropriate compiler flags.\n"
     ]
    },
    {
     "name": "stdout",
     "output_type": "stream",
     "text": [
      "Error loading AILab_ClothSegment.py: cannot import name 'runtime_version' from 'google.protobuf' (/opt/conda/lib/python3.12/site-packages/google/protobuf/__init__.py)\n",
      "Error loading AILab_FaceSegment.py: cannot import name 'runtime_version' from 'google.protobuf' (/opt/conda/lib/python3.12/site-packages/google/protobuf/__init__.py)\n",
      "Error loading AILab_FashionSegment.py: cannot import name 'runtime_version' from 'google.protobuf' (/opt/conda/lib/python3.12/site-packages/google/protobuf/__init__.py)\n",
      "Error loading AILab_SegmentV2.py: cannot import name 'runtime_version' from 'google.protobuf' (/opt/conda/lib/python3.12/site-packages/google/protobuf/__init__.py)\n",
      "\u001b[34m[ComfyUI-RMBG]\u001b[0m v\u001b[93m2.5.0\u001b[0m | \u001b[93m23 nodes\u001b[0m \u001b[92mLoaded\u001b[0m\n"
     ]
    },
    {
     "name": "stderr",
     "output_type": "stream",
     "text": [
      "/opt/conda/lib/python3.12/site-packages/transparent_background/gui.py:24: UserWarning: Failed to import flet. Ignore this message when you do not need GUI mode.\n",
      "  warnings.warn('Failed to import flet. Ignore this message when you do not need GUI mode.')\n",
      "\n",
      "Import times for custom nodes:\n",
      "   0.0 seconds: /home/sagemaker-user/ComfyUI/custom_nodes/websocket_image_save.py\n",
      "   0.0 seconds: /home/sagemaker-user/ComfyUI/custom_nodes/comfyui_ipadapter_plus\n",
      "   0.2 seconds: /home/sagemaker-user/ComfyUI/custom_nodes/ComfyUI-Manager\n",
      "   0.4 seconds: /home/sagemaker-user/ComfyUI/custom_nodes/comfyui_controlnet_aux\n",
      "   0.5 seconds: /home/sagemaker-user/ComfyUI/custom_nodes/rembg-comfyui-node\n",
      "   0.7 seconds: /home/sagemaker-user/ComfyUI/custom_nodes/comfyui-inspyrenet-rembg\n",
      "   0.9 seconds: /home/sagemaker-user/ComfyUI/custom_nodes/comfyui-rmbg\n",
      "\n"
     ]
    },
    {
     "name": "stdout",
     "output_type": "stream",
     "text": [
      "FETCH ComfyRegistry Data: 5/92\n"
     ]
    },
    {
     "name": "stderr",
     "output_type": "stream",
     "text": [
      "Context impl SQLiteImpl.\n",
      "Will assume non-transactional DDL.\n",
      "No target revision found.\n",
      "Starting server\n",
      "\n",
      "To see the GUI go to: http://127.0.0.1:8188\n"
     ]
    },
    {
     "name": "stdout",
     "output_type": "stream",
     "text": [
      "FETCH ComfyRegistry Data: 10/92\n",
      "FETCH ComfyRegistry Data: 15/92\n",
      "FETCH ComfyRegistry Data: 20/92\n"
     ]
    }
   ],
   "source": [
    "# Put ComfyUI command line args here\n",
    "args = \"--preview-method auto --enable-cors-header --use-pytorch-cross-attention\"\n",
    "\n",
    "from threading import Timer\n",
    "from queue import Queue\n",
    "import os\n",
    "    \n",
    "def launch_comfy(args):\n",
    "    print(f'Wait for local URL to appear')\n",
    "    os.system(\"python ./ComfyUI/main.py \" + args)\n",
    "    \n",
    "launch_comfy(args)"
   ]
  },
  {
   "cell_type": "code",
   "execution_count": null,
   "id": "0cace064-87c2-409a-a60c-3a9f7a7c4fdd",
   "metadata": {},
   "outputs": [],
   "source": []
  },
  {
   "cell_type": "code",
   "execution_count": null,
   "id": "0feb1966-2f47-4be5-b2bb-e5c04bfda82f",
   "metadata": {},
   "outputs": [],
   "source": []
  }
 ],
 "metadata": {
  "kernelspec": {
   "display_name": "Python 3 (ipykernel)",
   "language": "python",
   "name": "python3"
  },
  "language_info": {
   "codemirror_mode": {
    "name": "ipython",
    "version": 3
   },
   "file_extension": ".py",
   "mimetype": "text/x-python",
   "name": "python",
   "nbconvert_exporter": "python",
   "pygments_lexer": "ipython3",
   "version": "3.12.9"
  }
 },
 "nbformat": 4,
 "nbformat_minor": 5
}
