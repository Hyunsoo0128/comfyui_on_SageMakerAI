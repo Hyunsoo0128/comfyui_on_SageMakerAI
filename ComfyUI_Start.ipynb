{
 "cells": [
  {
   "cell_type": "markdown",
   "id": "411b9ea0-fe62-45a2-99a6-df9ba31aa706",
   "metadata": {},
   "source": [
    "### ComfyUI 서버 실행 및 접속 ###\n",
    "이 셀은 앞서 설치하고 준비한 ComfyUI를 웹 서버로 실행하는 역할을 합니다. 서버가 실행되면 웹 브라우저를 통해 ComfyUI의 노드 기반 인터페이스에 접속하여 이미지 생성을 시작할 수 있습니다.\n",
    "\n",
    "1. 코드 설명\n",
    "args = \"--preview-method auto --enable-cors-header --use-pytorch-cross-attention\"\n",
    "\n",
    "이 부분은 ComfyUI 서버를 시작할 때 적용할 추가 옵션들을 설정합니다.\n",
    "\n",
    "--preview-method auto: 이미지 생성 중간 과정을 보여주는 방식을 자동으로 설정합니다.\n",
    "\n",
    "--enable-cors-header: SageMaker와 같은 클라우드 환경에서 웹 인터페이스(프론트엔드)와 서버(백엔드)가 원활하게 통신할 수 있도록 허용하는 중요한 옵션입니다.\n",
    "\n",
    "--use-pytorch-cross-attention: PyTorch의 최적화된 연산 방식을 사용하여 성능을 향상시키는 옵션입니다.\n",
    "\n",
    "launch_comfy(args)\n",
    "\n",
    "ComfyUI/main.py 스크립트를 위에서 설정한 args 옵션과 함께 실행하여 서버를 시작하는 함수입니다.\n",
    "\n",
    "2. SageMaker Studio에서 접속하는 방법\n",
    "셀을 실행하면 출력 창에 http://127.0.0.1:8188 와 같은 로컬 주소가 나타납니다. 하지만 이 주소로는 SageMaker 환경에 직접 접속할 수 없습니다. 대신 아래의 방법으로 접속 주소를 변경해야 합니다.\n",
    "\n",
    "현재 JupyterLab 주소 확인\n",
    "먼저, 현재 사용 중인 웹 브라우저의 주소창을 확인합니다. 아래와 비슷한 형태일 것입니다.\n",
    "\n",
    "https://<스튜디오-ID>.studio.<리전>.sagemaker.aws/jupyter/default/lab\n",
    "\n",
    "기본 URL 추출\n",
    "위 주소에서 /lab 부분을 제외한 앞부분을 복사합니다.\n",
    "\n",
    "https://<스튜디오-ID>.studio.<리전>.sagemaker.aws/jupyter/default\n",
    "\n",
    "프록시 경로와 포트 번호 추가\n",
    "복사한 기본 URL 뒤에 /proxy/<포트번호>/를 추가합니다. ComfyUI의 기본 포트는 8188 입니다.\n",
    "\n",
    "/proxy/8188/\n",
    "\n",
    "최종 접속 URL 예시\n",
    "만약 내 JupyterLab 주소가:\n",
    "https://d-abcdef12345.studio.us-east-1.sagemaker.aws/jupyter/default/lab\n",
    "\n",
    "ComfyUI에 접속할 주소는:\n",
    "https://d-abcdef12345.studio.us-east-1.sagemaker.aws/jupyter/default/proxy/8188/\n",
    "\n",
    "이 최종 URL을 새 브라우저 탭에 입력하여 ComfyUI 인터페이스에 접속할 수 있습니다."
   ]
  },
  {
   "cell_type": "code",
   "execution_count": null,
   "id": "6f263bfd-ed76-47e3-9c9f-eb17eb37469a",
   "metadata": {
    "execution": {
     "iopub.execute_input": "2025-07-25T06:32:57.764251Z",
     "iopub.status.busy": "2025-07-25T06:32:57.764105Z"
    }
   },
   "outputs": [
    {
     "name": "stdout",
     "output_type": "stream",
     "text": [
      "Collecting rembg\n",
      "  Downloading rembg-2.0.67-py3-none-any.whl.metadata (21 kB)\n",
      "Requirement already satisfied: jsonschema in /opt/conda/lib/python3.12/site-packages (from rembg) (4.23.0)\n",
      "Requirement already satisfied: numpy in /opt/conda/lib/python3.12/site-packages (from rembg) (2.1.3)\n",
      "Collecting opencv-python-headless (from rembg)\n",
      "  Downloading opencv_python_headless-4.12.0.88-cp37-abi3-manylinux2014_x86_64.manylinux_2_17_x86_64.whl.metadata (19 kB)\n",
      "Requirement already satisfied: pillow in /opt/conda/lib/python3.12/site-packages (from rembg) (11.3.0)\n",
      "Collecting pooch (from rembg)\n",
      "  Downloading pooch-1.8.2-py3-none-any.whl.metadata (10 kB)\n",
      "Collecting pymatting (from rembg)\n",
      "  Downloading pymatting-1.1.14-py3-none-any.whl.metadata (7.7 kB)\n",
      "Requirement already satisfied: scikit-image in /opt/conda/lib/python3.12/site-packages (from rembg) (0.25.2)\n",
      "Requirement already satisfied: scipy in /opt/conda/lib/python3.12/site-packages (from rembg) (1.15.2)\n",
      "Requirement already satisfied: tqdm in /opt/conda/lib/python3.12/site-packages (from rembg) (4.67.1)\n",
      "Requirement already satisfied: attrs>=22.2.0 in /opt/conda/lib/python3.12/site-packages (from jsonschema->rembg) (23.2.0)\n",
      "Requirement already satisfied: jsonschema-specifications>=2023.03.6 in /opt/conda/lib/python3.12/site-packages (from jsonschema->rembg) (2025.4.1)\n",
      "Requirement already satisfied: referencing>=0.28.4 in /opt/conda/lib/python3.12/site-packages (from jsonschema->rembg) (0.36.2)\n",
      "Requirement already satisfied: rpds-py>=0.7.1 in /opt/conda/lib/python3.12/site-packages (from jsonschema->rembg) (0.26.0)\n",
      "Requirement already satisfied: typing-extensions>=4.4.0 in /opt/conda/lib/python3.12/site-packages (from referencing>=0.28.4->jsonschema->rembg) (4.14.1)\n",
      "Requirement already satisfied: platformdirs>=2.5.0 in /opt/conda/lib/python3.12/site-packages (from pooch->rembg) (4.3.8)\n",
      "Requirement already satisfied: packaging>=20.0 in /opt/conda/lib/python3.12/site-packages (from pooch->rembg) (24.2)\n",
      "Requirement already satisfied: requests>=2.19.0 in /opt/conda/lib/python3.12/site-packages (from pooch->rembg) (2.32.4)\n",
      "Requirement already satisfied: charset_normalizer<4,>=2 in /opt/conda/lib/python3.12/site-packages (from requests>=2.19.0->pooch->rembg) (3.4.2)\n",
      "Requirement already satisfied: idna<4,>=2.5 in /opt/conda/lib/python3.12/site-packages (from requests>=2.19.0->pooch->rembg) (3.10)\n",
      "Requirement already satisfied: urllib3<3,>=1.21.1 in /opt/conda/lib/python3.12/site-packages (from requests>=2.19.0->pooch->rembg) (1.26.19)\n",
      "Requirement already satisfied: certifi>=2017.4.17 in /opt/conda/lib/python3.12/site-packages (from requests>=2.19.0->pooch->rembg) (2025.7.14)\n",
      "Requirement already satisfied: numba!=0.49.0 in /opt/conda/lib/python3.12/site-packages (from pymatting->rembg) (0.61.2)\n",
      "Requirement already satisfied: llvmlite<0.45,>=0.44.0dev0 in /opt/conda/lib/python3.12/site-packages (from numba!=0.49.0->pymatting->rembg) (0.44.0)\n",
      "Requirement already satisfied: networkx>=3.0 in /opt/conda/lib/python3.12/site-packages (from scikit-image->rembg) (3.5)\n",
      "Requirement already satisfied: imageio!=2.35.0,>=2.33 in /opt/conda/lib/python3.12/site-packages (from scikit-image->rembg) (2.37.0)\n",
      "Requirement already satisfied: tifffile>=2022.8.12 in /opt/conda/lib/python3.12/site-packages (from scikit-image->rembg) (2025.6.11)\n",
      "Requirement already satisfied: lazy-loader>=0.4 in /opt/conda/lib/python3.12/site-packages (from scikit-image->rembg) (0.4)\n",
      "Downloading rembg-2.0.67-py3-none-any.whl (44 kB)\n",
      "Downloading opencv_python_headless-4.12.0.88-cp37-abi3-manylinux2014_x86_64.manylinux_2_17_x86_64.whl (54.0 MB)\n",
      "\u001b[2K   \u001b[90m━━━━━━━━━━━━━━━━━━━━━━━━━━━━━━━━━━━━━━━━\u001b[0m \u001b[32m54.0/54.0 MB\u001b[0m \u001b[31m186.5 MB/s\u001b[0m eta \u001b[36m0:00:00\u001b[0m00:01\u001b[0m\n",
      "\u001b[?25hDownloading pooch-1.8.2-py3-none-any.whl (64 kB)\n",
      "Downloading pymatting-1.1.14-py3-none-any.whl (54 kB)\n",
      "Installing collected packages: opencv-python-headless, pymatting, pooch, rembg\n",
      "\u001b[2K   \u001b[90m━━━━━━━━━━━━━━━━━━━━━━━━━━━━━━━━━━━━━━━━\u001b[0m \u001b[32m4/4\u001b[0m [rembg]32m3/4\u001b[0m [rembg]\n",
      "\u001b[1A\u001b[2KSuccessfully installed opencv-python-headless-4.12.0.88 pooch-1.8.2 pymatting-1.1.14 rembg-2.0.67\n",
      "Get:1 https://developer.download.nvidia.com/compute/cuda/repos/ubuntu2204/x86_64  InRelease [1581 B]\n",
      "Get:2 http://security.ubuntu.com/ubuntu jammy-security InRelease [129 kB]      \n",
      "Hit:3 http://archive.ubuntu.com/ubuntu jammy InRelease                         \n",
      "Get:4 http://archive.ubuntu.com/ubuntu jammy-updates InRelease [128 kB]\n",
      "Get:5 https://developer.download.nvidia.com/compute/cuda/repos/ubuntu2204/x86_64  Packages [1851 kB]\n",
      "Err:5 https://developer.download.nvidia.com/compute/cuda/repos/ubuntu2204/x86_64  Packages\n",
      "  File has unexpected size (1852870 != 1850507). Mirror sync in progress? [IP: 23.205.107.7 443]\n",
      "  Hashes of expected file:\n",
      "   - Filesize:1850507 [weak]\n",
      "   - SHA256:97960e9159be087be063fd3fcd63217a13dcd40b7ae329f38ddcee2541e2406b\n",
      "   - SHA1:7baa6fed520300c1fdb5eb10ca02367f0806deb9 [weak]\n",
      "   - MD5Sum:4f4f50310c11c9a0ba217aacc75d8f47 [weak]\n",
      "  Release file created at: Tue, 22 Jul 2025 19:05:10 +0000\n",
      "Get:6 http://archive.ubuntu.com/ubuntu jammy-backports InRelease [127 kB]\n",
      "Get:7 http://security.ubuntu.com/ubuntu jammy-security/main amd64 Packages [3160 kB]\n",
      "Get:8 http://archive.ubuntu.com/ubuntu jammy-updates/multiverse amd64 Packages [75.9 kB]\n",
      "Get:9 http://security.ubuntu.com/ubuntu jammy-security/universe amd64 Packages [1269 kB]\n",
      "Get:10 http://security.ubuntu.com/ubuntu jammy-security/restricted amd64 Packages [4976 kB]\n",
      "Get:11 http://archive.ubuntu.com/ubuntu jammy-updates/universe amd64 Packages [1574 kB]\n",
      "Get:12 http://archive.ubuntu.com/ubuntu jammy-updates/restricted amd64 Packages [5163 kB]\n",
      "Get:13 http://archive.ubuntu.com/ubuntu jammy-updates/main amd64 Packages [3471 kB]\n",
      "Fetched 20.1 MB in 1s (18.7 MB/s)                           \n",
      "Reading package lists... Done\n",
      "E: Failed to fetch https://developer.download.nvidia.com/compute/cuda/repos/ubuntu2204/x86_64/Packages.gz  File has unexpected size (1852870 != 1850507). Mirror sync in progress? [IP: 23.205.107.7 443]\n",
      "   Hashes of expected file:\n",
      "    - Filesize:1850507 [weak]\n",
      "    - SHA256:97960e9159be087be063fd3fcd63217a13dcd40b7ae329f38ddcee2541e2406b\n",
      "    - SHA1:7baa6fed520300c1fdb5eb10ca02367f0806deb9 [weak]\n",
      "    - MD5Sum:4f4f50310c11c9a0ba217aacc75d8f47 [weak]\n",
      "   Release file created at: Tue, 22 Jul 2025 19:05:10 +0000\n",
      "E: Some index files failed to download. They have been ignored, or old ones used instead.\n",
      "Wait for local URL to appear\n",
      "[START] Security scan\n",
      "[DONE] Security scan\n",
      "## ComfyUI-Manager: installing dependencies done.\n",
      "** ComfyUI startup time: 2025-07-25 06:33:05.861\n",
      "** Platform: Linux\n",
      "** Python version: 3.12.9 | packaged by conda-forge | (main, Feb 14 2025, 08:00:06) [GCC 13.3.0]\n",
      "** Python executable: /opt/conda/bin/python\n",
      "** ComfyUI Path: /home/sagemaker-user/comfyui_on_SageMakerAI/ComfyUI\n",
      "** ComfyUI Base Folder Path: /home/sagemaker-user/comfyui_on_SageMakerAI/ComfyUI\n",
      "** User directory: /home/sagemaker-user/comfyui_on_SageMakerAI/ComfyUI/user\n",
      "** ComfyUI-Manager config path: /home/sagemaker-user/comfyui_on_SageMakerAI/ComfyUI/user/default/ComfyUI-Manager/config.ini\n",
      "** Log path: /home/sagemaker-user/comfyui_on_SageMakerAI/ComfyUI/user/comfyui.log\n"
     ]
    },
    {
     "name": "stderr",
     "output_type": "stream",
     "text": [
      "\n",
      "Prestartup times for custom nodes:\n",
      "   2.9 seconds: /home/sagemaker-user/comfyui_on_SageMakerAI/ComfyUI/custom_nodes/ComfyUI-Manager\n",
      "\n",
      "Checkpoint files will always be loaded safely.\n",
      "Total VRAM 22503 MB, total RAM 31737 MB\n",
      "pytorch version: 2.7.1+cu126\n",
      "Set vram state to: NORMAL_VRAM\n",
      "Device: cuda:0 NVIDIA A10G : cudaMallocAsync\n",
      "Using pytorch attention\n",
      "Python version: 3.12.9 | packaged by conda-forge | (main, Feb 14 2025, 08:00:06) [GCC 13.3.0]\n",
      "ComfyUI version: 0.3.45\n",
      "ComfyUI frontend version: 1.23.4\n",
      "[Prompt Server] web root: /opt/conda/lib/python3.12/site-packages/comfyui_frontend_package/static\n",
      "### Loading: ComfyUI-Manager (V3.35)\n",
      "[ComfyUI-Manager] network_mode: public\n",
      "[ComfyUI-Manager] Since --preview-method is set, ComfyUI-Manager's preview method feature will be ignored.\n",
      "### ComfyUI Version: v0.3.45-16-g4293e4da | Released on '2025-07-24'\n",
      "\n",
      "Import times for custom nodes:\n",
      "   0.0 seconds: /home/sagemaker-user/comfyui_on_SageMakerAI/ComfyUI/custom_nodes/websocket_image_save.py\n",
      "   0.1 seconds: /home/sagemaker-user/comfyui_on_SageMakerAI/ComfyUI/custom_nodes/ComfyUI-Manager\n",
      "\n",
      "[ComfyUI-Manager] default cache updated: https://raw.githubusercontent.com/ltdrdata/ComfyUI-Manager/main/alter-list.json\n",
      "[ComfyUI-Manager] default cache updated: https://raw.githubusercontent.com/ltdrdata/ComfyUI-Manager/main/model-list.json\n",
      "[ComfyUI-Manager] default cache updated: https://raw.githubusercontent.com/ltdrdata/ComfyUI-Manager/main/custom-node-list.json\n",
      "[ComfyUI-Manager] default cache updated: https://raw.githubusercontent.com/ltdrdata/ComfyUI-Manager/main/extension-node-map.json\n",
      "[ComfyUI-Manager] default cache updated: https://raw.githubusercontent.com/ltdrdata/ComfyUI-Manager/main/github-stats.json\n",
      "Context impl SQLiteImpl.\n",
      "Will assume non-transactional DDL.\n",
      "No target revision found.\n",
      "Starting server\n",
      "\n",
      "To see the GUI go to: http://127.0.0.1:8188\n"
     ]
    },
    {
     "name": "stdout",
     "output_type": "stream",
     "text": [
      "FETCH ComfyRegistry Data: 5/92\n",
      "FETCH ComfyRegistry Data: 10/92\n",
      "FETCH ComfyRegistry Data: 15/92\n",
      "FETCH ComfyRegistry Data: 20/92\n",
      "FETCH ComfyRegistry Data: 25/92\n",
      "FETCH ComfyRegistry Data: 30/92\n",
      "FETCH ComfyRegistry Data: 35/92\n",
      "FETCH ComfyRegistry Data: 40/92\n",
      "FETCH ComfyRegistry Data: 45/92\n",
      "FETCH ComfyRegistry Data: 50/92\n",
      "FETCH ComfyRegistry Data: 55/92\n",
      "FETCH ComfyRegistry Data: 60/92\n",
      "FETCH ComfyRegistry Data: 65/92\n",
      "FETCH ComfyRegistry Data: 70/92\n",
      "FETCH ComfyRegistry Data: 75/92\n",
      "FETCH ComfyRegistry Data: 80/92\n"
     ]
    },
    {
     "name": "stderr",
     "output_type": "stream",
     "text": [
      "100%|██████████| 39.8M/39.8M [00:00<00:00, 88.6MB/s]\n"
     ]
    },
    {
     "name": "stdout",
     "output_type": "stream",
     "text": [
      "FETCH ComfyRegistry Data: 85/92\n",
      "Install: pip packages\n"
     ]
    },
    {
     "name": "stderr",
     "output_type": "stream",
     "text": [
      "Extracted zip file to /home/sagemaker-user/comfyui_on_SageMakerAI/ComfyUI/custom_nodes/comfyui_controlnet_aux\n",
      "\u001b[2mUsing Python 3.12.9 environment at: /opt/conda\u001b[0m\n",
      "[!] \u001b[2mUsing Python 3.12.9 environment at: /opt/conda\u001b[0m\n",
      "[!] \u001b[2mAudited \u001b[1m1 package\u001b[0m \u001b[2min 14ms\u001b[0m\u001b[0m\n",
      "[!] \u001b[2mUsing Python 3.12.9 environment at: /opt/conda\u001b[0m\n"
     ]
    },
    {
     "name": "stdout",
     "output_type": "stream",
     "text": [
      "\u001b[1m[\u001b[0mComfyUI-Manager\u001b[1m]\u001b[0m skip black listed pip installation: \u001b[32m'torch'\u001b[0m\n",
      "\n",
      "## ComfyUI-Manager: EXECUTE => \u001b[1m[\u001b[0m\u001b[32m'/opt/conda/bin/python'\u001b[0m, \u001b[32m'-m'\u001b[0m, \u001b[32m'uv'\u001b[0m, \u001b[32m'pip'\u001b[0m, \n",
      "\u001b[32m'install'\u001b[0m, \u001b[32m'importlib_metadata'\u001b[0m\u001b[1m]\u001b[0m\n",
      "\n",
      "## ComfyUI-Manager: EXECUTE => \u001b[1m[\u001b[0m\u001b[32m'/opt/conda/bin/python'\u001b[0m, \u001b[32m'-m'\u001b[0m, \u001b[32m'uv'\u001b[0m, \u001b[32m'pip'\u001b[0m, \n",
      "\u001b[32m'install'\u001b[0m, \u001b[32m'huggingface_hub'\u001b[0m\u001b[1m]\u001b[0m\n",
      "\n",
      "## ComfyUI-Manager: EXECUTE => \u001b[1m[\u001b[0m\u001b[32m'/opt/conda/bin/python'\u001b[0m, \u001b[32m'-m'\u001b[0m, \u001b[32m'uv'\u001b[0m, \u001b[32m'pip'\u001b[0m, \n",
      "\u001b[32m'install'\u001b[0m, \u001b[32m'scipy'\u001b[0m\u001b[1m]\u001b[0m\n",
      "\n",
      "## ComfyUI-Manager: EXECUTE => \u001b[1m[\u001b[0m\u001b[32m'/opt/conda/bin/python'\u001b[0m, \u001b[32m'-m'\u001b[0m, \u001b[32m'uv'\u001b[0m, \u001b[32m'pip'\u001b[0m, \n",
      "\u001b[32m'install'\u001b[0m, \u001b[32m'opencv-python>=4.7.0.72'\u001b[0m\u001b[1m]\u001b[0m\n",
      "\n",
      "## ComfyUI-Manager: EXECUTE => \u001b[1m[\u001b[0m\u001b[32m'/opt/conda/bin/python'\u001b[0m, \u001b[32m'-m'\u001b[0m, \u001b[32m'uv'\u001b[0m, \u001b[32m'pip'\u001b[0m, \n",
      "\u001b[32m'install'\u001b[0m, \u001b[32m'filelock'\u001b[0m\u001b[1m]\u001b[0m\n"
     ]
    },
    {
     "name": "stderr",
     "output_type": "stream",
     "text": [
      "[!] \u001b[2mAudited \u001b[1m1 package\u001b[0m \u001b[2min 14ms\u001b[0m\u001b[0m\n",
      "[!] \u001b[2mUsing Python 3.12.9 environment at: /opt/conda\u001b[0m\n",
      "[!] \u001b[2mAudited \u001b[1m1 package\u001b[0m \u001b[2min 14ms\u001b[0m\u001b[0m\n",
      "[!] \u001b[2mUsing Python 3.12.9 environment at: /opt/conda\u001b[0m\n",
      "[!] \u001b[2mAudited \u001b[1m1 package\u001b[0m \u001b[2min 14ms\u001b[0m\u001b[0m\n",
      "[!] \u001b[2mUsing Python 3.12.9 environment at: /opt/conda\u001b[0m\n",
      "[!] \u001b[2mAudited \u001b[1m1 package\u001b[0m \u001b[2min 13ms\u001b[0m\u001b[0m\n",
      "[!] \u001b[2mUsing Python 3.12.9 environment at: /opt/conda\u001b[0m\n",
      "[!] \u001b[2mAudited \u001b[1m1 package\u001b[0m \u001b[2min 14ms\u001b[0m\u001b[0m\n"
     ]
    },
    {
     "name": "stdout",
     "output_type": "stream",
     "text": [
      "\n",
      "## ComfyUI-Manager: EXECUTE => \u001b[1m[\u001b[0m\u001b[32m'/opt/conda/bin/python'\u001b[0m, \u001b[32m'-m'\u001b[0m, \u001b[32m'uv'\u001b[0m, \u001b[32m'pip'\u001b[0m, \n",
      "\u001b[32m'install'\u001b[0m, \u001b[32m'numpy'\u001b[0m\u001b[1m]\u001b[0m\n",
      "\n",
      "## ComfyUI-Manager: EXECUTE => \u001b[1m[\u001b[0m\u001b[32m'/opt/conda/bin/python'\u001b[0m, \u001b[32m'-m'\u001b[0m, \u001b[32m'uv'\u001b[0m, \u001b[32m'pip'\u001b[0m, \n",
      "\u001b[32m'install'\u001b[0m, \u001b[32m'Pillow'\u001b[0m\u001b[1m]\u001b[0m\n",
      "\n",
      "## ComfyUI-Manager: EXECUTE => \u001b[1m[\u001b[0m\u001b[32m'/opt/conda/bin/python'\u001b[0m, \u001b[32m'-m'\u001b[0m, \u001b[32m'uv'\u001b[0m, \u001b[32m'pip'\u001b[0m, \n",
      "\u001b[32m'install'\u001b[0m, \u001b[32m'einops'\u001b[0m\u001b[1m]\u001b[0m\n",
      "\u001b[1m[\u001b[0mComfyUI-Manager\u001b[1m]\u001b[0m skip black listed pip installation: \u001b[32m'torchvision'\u001b[0m\n",
      "\n",
      "## ComfyUI-Manager: EXECUTE => \u001b[1m[\u001b[0m\u001b[32m'/opt/conda/bin/python'\u001b[0m, \u001b[32m'-m'\u001b[0m, \u001b[32m'uv'\u001b[0m, \u001b[32m'pip'\u001b[0m, \n",
      "\u001b[32m'install'\u001b[0m, \u001b[32m'pyyaml'\u001b[0m\u001b[1m]\u001b[0m\n",
      "\n",
      "## ComfyUI-Manager: EXECUTE => \u001b[1m[\u001b[0m\u001b[32m'/opt/conda/bin/python'\u001b[0m, \u001b[32m'-m'\u001b[0m, \u001b[32m'uv'\u001b[0m, \u001b[32m'pip'\u001b[0m, \n",
      "\u001b[32m'install'\u001b[0m, \u001b[32m'scikit-image'\u001b[0m\u001b[1m]\u001b[0m\n"
     ]
    },
    {
     "name": "stderr",
     "output_type": "stream",
     "text": [
      "[!] \u001b[2mUsing Python 3.12.9 environment at: /opt/conda\u001b[0m\n",
      "[!] \u001b[2mAudited \u001b[1m1 package\u001b[0m \u001b[2min 14ms\u001b[0m\u001b[0m\n",
      "[!] \u001b[2mUsing Python 3.12.9 environment at: /opt/conda\u001b[0m\n",
      "[!] \u001b[2mAudited \u001b[1m1 package\u001b[0m \u001b[2min 15ms\u001b[0m\u001b[0m\n",
      "[!] \u001b[2mUsing Python 3.12.9 environment at: /opt/conda\u001b[0m\n",
      "[!] \u001b[2mAudited \u001b[1m1 package\u001b[0m \u001b[2min 14ms\u001b[0m\u001b[0m\n",
      "[!] \u001b[2mUsing Python 3.12.9 environment at: /opt/conda\u001b[0m\n",
      "[!] \u001b[2mAudited \u001b[1m1 package\u001b[0m \u001b[2min 15ms\u001b[0m\u001b[0m\n",
      "[!] \u001b[2mUsing Python 3.12.9 environment at: /opt/conda\u001b[0m\n",
      "[!] \u001b[2mAudited \u001b[1m1 package\u001b[0m \u001b[2min 13ms\u001b[0m\u001b[0m\n"
     ]
    },
    {
     "name": "stdout",
     "output_type": "stream",
     "text": [
      "\n",
      "## ComfyUI-Manager: EXECUTE => \u001b[1m[\u001b[0m\u001b[32m'/opt/conda/bin/python'\u001b[0m, \u001b[32m'-m'\u001b[0m, \u001b[32m'uv'\u001b[0m, \u001b[32m'pip'\u001b[0m, \n",
      "\u001b[32m'install'\u001b[0m, \u001b[32m'python-dateutil'\u001b[0m\u001b[1m]\u001b[0m\n",
      "\n",
      "## ComfyUI-Manager: EXECUTE => \u001b[1m[\u001b[0m\u001b[32m'/opt/conda/bin/python'\u001b[0m, \u001b[32m'-m'\u001b[0m, \u001b[32m'uv'\u001b[0m, \u001b[32m'pip'\u001b[0m, \n",
      "\u001b[32m'install'\u001b[0m, \u001b[32m'mediapipe'\u001b[0m\u001b[1m]\u001b[0m\n"
     ]
    },
    {
     "name": "stderr",
     "output_type": "stream",
     "text": [
      "[!] \u001b[2mUsing Python 3.12.9 environment at: /opt/conda\u001b[0m\n",
      "[!] \u001b[2mResolved \u001b[1m26 packages\u001b[0m \u001b[2min 140ms\u001b[0m\u001b[0m\n",
      "[!] \u001b[2mPrepared \u001b[1m5 packages\u001b[0m \u001b[2min 1.03s\u001b[0m\u001b[0m\n",
      "[!] \u001b[2mUninstalled \u001b[1m2 packages\u001b[0m \u001b[2min 70ms\u001b[0m\u001b[0m\n",
      "[!] \u001b[1m\u001b[33mwarning\u001b[39m\u001b[0m\u001b[1m:\u001b[0m \u001b[1mFailed to hardlink files; falling back to full copy. This may lead to degraded performance.\n",
      "[!]          If the cache and target directories are on different filesystems, hardlinking may not be supported.\n",
      "[!]          If this is intentional, set `export UV_LINK_MODE=copy` or use `--link-mode=copy` to suppress this warning.\u001b[0m\n",
      "[!] \u001b[2mInstalled \u001b[1m5 packages\u001b[0m \u001b[2min 235ms\u001b[0m\u001b[0m\n",
      "[!]  \u001b[32m+\u001b[39m \u001b[1mmediapipe\u001b[0m\u001b[2m==0.10.21\u001b[0m\n",
      "[!]  \u001b[31m-\u001b[39m \u001b[1mnumpy\u001b[0m\u001b[2m==2.1.3\u001b[0m\n",
      "[!]  \u001b[32m+\u001b[39m \u001b[1mnumpy\u001b[0m\u001b[2m==1.26.4\u001b[0m\n",
      "[!]  \u001b[32m+\u001b[39m \u001b[1mopencv-contrib-python\u001b[0m\u001b[2m==4.11.0.86\u001b[0m\n",
      "[!]  \u001b[31m-\u001b[39m \u001b[1mprotobuf\u001b[0m\u001b[2m==5.29.5\u001b[0m\n",
      "[!]  \u001b[32m+\u001b[39m \u001b[1mprotobuf\u001b[0m\u001b[2m==4.25.8\u001b[0m\n",
      "[!]  \u001b[32m+\u001b[39m \u001b[1msounddevice\u001b[0m\u001b[2m==0.5.2\u001b[0m\n",
      "[!] \u001b[2mUsing Python 3.12.9 environment at: /opt/conda\u001b[0m\n"
     ]
    },
    {
     "name": "stdout",
     "output_type": "stream",
     "text": [
      "\n",
      "## ComfyUI-Manager: EXECUTE => \u001b[1m[\u001b[0m\u001b[32m'/opt/conda/bin/python'\u001b[0m, \u001b[32m'-m'\u001b[0m, \u001b[32m'uv'\u001b[0m, \u001b[32m'pip'\u001b[0m, \n",
      "\u001b[32m'install'\u001b[0m, \u001b[32m'svglib'\u001b[0m\u001b[1m]\u001b[0m\n"
     ]
    },
    {
     "name": "stderr",
     "output_type": "stream",
     "text": [
      "[!] \u001b[2mResolved \u001b[1m8 packages\u001b[0m \u001b[2min 629ms\u001b[0m\u001b[0m\n",
      "[!] \u001b[2mPrepared \u001b[1m3 packages\u001b[0m \u001b[2min 198ms\u001b[0m\u001b[0m\n",
      "[!] \u001b[1m\u001b[33mwarning\u001b[39m\u001b[0m\u001b[1m:\u001b[0m \u001b[1mFailed to hardlink files; falling back to full copy. This may lead to degraded performance.\n",
      "[!]          If the cache and target directories are on different filesystems, hardlinking may not be supported.\n",
      "[!]"
     ]
    },
    {
     "name": "stdout",
     "output_type": "stream",
     "text": [
      "FETCH ComfyRegistry Data: 90/92\n"
     ]
    },
    {
     "name": "stderr",
     "output_type": "stream",
     "text": [
      "          If this is intentional, set `export UV_LINK_MODE=copy` or use `--link-mode=copy` to suppress this warning.\u001b[0m\n",
      "[!] \u001b[2mInstalled \u001b[1m3 packages\u001b[0m \u001b[2min 18ms\u001b[0m\u001b[0m\n",
      "[!]  \u001b[32m+\u001b[39m \u001b[1mcssselect2\u001b[0m\u001b[2m==0.8.0\u001b[0m\n",
      "[!]  \u001b[32m+\u001b[39m \u001b[1mreportlab\u001b[0m\u001b[2m==4.4.3\u001b[0m\n",
      "[!]  \u001b[32m+\u001b[39m \u001b[1msvglib\u001b[0m\u001b[2m==1.5.1\u001b[0m\n",
      "[!] \u001b[2mUsing Python 3.12.9 environment at: /opt/conda\u001b[0m\n"
     ]
    },
    {
     "name": "stdout",
     "output_type": "stream",
     "text": [
      "\n",
      "## ComfyUI-Manager: EXECUTE => \u001b[1m[\u001b[0m\u001b[32m'/opt/conda/bin/python'\u001b[0m, \u001b[32m'-m'\u001b[0m, \u001b[32m'uv'\u001b[0m, \u001b[32m'pip'\u001b[0m, \n",
      "\u001b[32m'install'\u001b[0m, \u001b[32m'fvcore'\u001b[0m\u001b[1m]\u001b[0m\n"
     ]
    },
    {
     "name": "stderr",
     "output_type": "stream",
     "text": [
      "[!] \u001b[2mResolved \u001b[1m11 packages\u001b[0m \u001b[2min 956ms\u001b[0m\u001b[0m\n",
      "[!] \u001b[2mPrepared \u001b[1m4 packages\u001b[0m \u001b[2min 219ms\u001b[0m\u001b[0m\n",
      "[!] \u001b[1m\u001b[33mwarning\u001b[39m\u001b[0m\u001b[1m:\u001b[0m \u001b[1mFailed to hardlink files; falling back to full copy. This may lead to degraded performance.\n",
      "[!]          If the cache and target directories are on different filesystems, hardlinking may not be supported.\n",
      "[!]          If this is intentional, set `export UV_LINK_MODE=copy` or use `--link-mode=copy` to suppress this warning.\u001b[0m\n",
      "[!] \u001b[2mInstalled \u001b[1m4 packages\u001b[0m \u001b[2min 5ms\u001b[0m\u001b[0m\n",
      "[!]  \u001b[32m+\u001b[39m \u001b[1mfvcore\u001b[0m\u001b[2m==0.1.5.post20221221\u001b[0m\n",
      "[!]  \u001b[32m+\u001b[39m \u001b[1miopath\u001b[0m\u001b[2m==0.1.10\u001b[0m\n",
      "[!]  \u001b[32m+\u001b[39m \u001b[1mportalocker\u001b[0m\u001b[2m==3.2.0\u001b[0m\n",
      "[!]  \u001b[32m+\u001b[39m \u001b[1myacs\u001b[0m\u001b[2m==0.1.8\u001b[0m\n",
      "[!] \u001b[2mUsing Python 3.12.9 environment at: /opt/conda\u001b[0m\n",
      "[!] \u001b[2mAudited \u001b[1m1 package\u001b[0m \u001b[2min 14ms\u001b[0m\u001b[0m\n",
      "[!] \u001b[2mUsing Python 3.12.9 environment at: /opt/conda\u001b[0m\n",
      "[!] \u001b[2mAudited \u001b[1m1 package\u001b[0m \u001b[2min 14ms\u001b[0m\u001b[0m\n",
      "[!] \u001b[2mUsing Python 3.12.9 environment at: /opt/conda\u001b[0m\n",
      "[!] \u001b[2mResolved \u001b[1m2 packages\u001b[0m \u001b[2min 22ms\u001b[0m\u001b[0m\n",
      "[!] \u001b[2mPrepared \u001b[1m1 package\u001b[0m \u001b[2min 4ms\u001b[0m\u001b[0m\n",
      "[!] \u001b[1m\u001b[33mwarning\u001b[39m\u001b[0m\u001b[1m:\u001b[0m \u001b[1mFailed to hardlink files; falling back to full copy. This may lead to degraded performance.\n",
      "[!]          If the cache and target directories are on different filesystems, hardlinking may not be supported.\n",
      "[!]          If this is intentional, set `export UV_LINK_MODE=copy` or use `--link-mode=copy` to suppress this warning.\u001b[0m\n",
      "[!] \u001b[2mInstalled \u001b[1m1 package\u001b[0m \u001b[2min 5ms\u001b[0m\u001b[0m\n",
      "[!]  \u001b[32m+\u001b[39m \u001b[1mftfy\u001b[0m\u001b[2m==6.3.1\u001b[0m\n"
     ]
    },
    {
     "name": "stdout",
     "output_type": "stream",
     "text": [
      "\n",
      "## ComfyUI-Manager: EXECUTE => \u001b[1m[\u001b[0m\u001b[32m'/opt/conda/bin/python'\u001b[0m, \u001b[32m'-m'\u001b[0m, \u001b[32m'uv'\u001b[0m, \u001b[32m'pip'\u001b[0m, \n",
      "\u001b[32m'install'\u001b[0m, \u001b[32m'yapf'\u001b[0m\u001b[1m]\u001b[0m\n",
      "\n",
      "## ComfyUI-Manager: EXECUTE => \u001b[1m[\u001b[0m\u001b[32m'/opt/conda/bin/python'\u001b[0m, \u001b[32m'-m'\u001b[0m, \u001b[32m'uv'\u001b[0m, \u001b[32m'pip'\u001b[0m, \n",
      "\u001b[32m'install'\u001b[0m, \u001b[32m'omegaconf'\u001b[0m\u001b[1m]\u001b[0m\n",
      "\n",
      "## ComfyUI-Manager: EXECUTE => \u001b[1m[\u001b[0m\u001b[32m'/opt/conda/bin/python'\u001b[0m, \u001b[32m'-m'\u001b[0m, \u001b[32m'uv'\u001b[0m, \u001b[32m'pip'\u001b[0m, \n",
      "\u001b[32m'install'\u001b[0m, \u001b[32m'ftfy'\u001b[0m\u001b[1m]\u001b[0m\n",
      "\n",
      "## ComfyUI-Manager: EXECUTE => \u001b[1m[\u001b[0m\u001b[32m'/opt/conda/bin/python'\u001b[0m, \u001b[32m'-m'\u001b[0m, \u001b[32m'uv'\u001b[0m, \u001b[32m'pip'\u001b[0m, \n",
      "\u001b[32m'install'\u001b[0m, \u001b[32m'addict'\u001b[0m\u001b[1m]\u001b[0m\n"
     ]
    },
    {
     "name": "stderr",
     "output_type": "stream",
     "text": [
      "[!] \u001b[2mUsing Python 3.12.9 environment at: /opt/conda\u001b[0m\n",
      "[!] \u001b[2mResolved \u001b[1m1 package\u001b[0m \u001b[2min 18ms\u001b[0m\u001b[0m\n",
      "[!] \u001b[2mPrepared \u001b[1m1 package\u001b[0m \u001b[2min 3ms\u001b[0m\u001b[0m\n",
      "[!] \u001b[1m\u001b[33mwarning\u001b[39m\u001b[0m\u001b[1m:\u001b[0m \u001b[1mFailed to hardlink files; falling back to full copy. This may lead to degraded performance.\n",
      "[!]          If the cache and target directories are on different filesystems, hardlinking may not be supported.\n",
      "[!]          If this is intentional, set `export UV_LINK_MODE=copy` or use `--link-mode=copy` to suppress this warning.\u001b[0m\n",
      "[!] \u001b[2mInstalled \u001b[1m1 package\u001b[0m \u001b[2min 5ms\u001b[0m\u001b[0m\n",
      "[!]  \u001b[32m+\u001b[39m \u001b[1maddict\u001b[0m\u001b[2m==2.4.0\u001b[0m\n",
      "[!] \u001b[2mUsing Python 3.12.9 environment at: /opt/conda\u001b[0m\n",
      "[!] \u001b[2mAudited \u001b[1m1 package\u001b[0m \u001b[2min 18ms\u001b[0m\u001b[0m\n",
      "[!] \u001b[2mUsing Python 3.12.9 environment at: /opt/conda\u001b[0m\n",
      "[ComfyUI-Manager] default cache updated: https://api.comfy.org/nodes\n"
     ]
    },
    {
     "name": "stdout",
     "output_type": "stream",
     "text": [
      "FETCH ComfyRegistry Data [DONE]\n",
      "\n",
      "## ComfyUI-Manager: EXECUTE => \u001b[1m[\u001b[0m\u001b[32m'/opt/conda/bin/python'\u001b[0m, \u001b[32m'-m'\u001b[0m, \u001b[32m'uv'\u001b[0m, \u001b[32m'pip'\u001b[0m, \n",
      "\u001b[32m'install'\u001b[0m, \u001b[32m'yacs'\u001b[0m\u001b[1m]\u001b[0m\n",
      "\n",
      "## ComfyUI-Manager: EXECUTE => \u001b[1m[\u001b[0m\u001b[32m'/opt/conda/bin/python'\u001b[0m, \u001b[32m'-m'\u001b[0m, \u001b[32m'uv'\u001b[0m, \u001b[32m'pip'\u001b[0m, \n",
      "\u001b[32m'install'\u001b[0m, \u001b[32m'trimesh\u001b[0m\u001b[32m'\u001b[0m\u001b[1m]\u001b[0m\n",
      "FETCH DATA from: https://raw.githubusercontent.com/ltdrdata/ComfyUI-Manager/main/custom-node-list.json [DONE]\n"
     ]
    },
    {
     "name": "stderr",
     "output_type": "stream",
     "text": [
      "[ComfyUI-Manager] All startup tasks have been completed.\n",
      "[!] \u001b[2mResolved \u001b[1m32 packages\u001b[0m \u001b[2min 99ms\u001b[0m\u001b[0m\n",
      "[!] \u001b[2mPrepared \u001b[1m9 packages\u001b[0m \u001b[2min 220ms\u001b[0m\u001b[0m\n",
      "[!] \u001b[1m\u001b[33mwarning\u001b[39m\u001b[0m\u001b[1m:\u001b[0m \u001b[1mFailed to hardlink files; falling back to full copy. This may lead to degraded performance.\n",
      "[!]          If the cache and target directories are on different filesystems, hardlinking may not be supported.\n",
      "[!]          If this is intentional, set `export UV_LINK_MODE=copy` or use `--link-mode=copy` to suppress this warning.\u001b[0m\n",
      "[!] \u001b[2mInstalled \u001b[1m9 packages\u001b[0m \u001b[2min 33ms\u001b[0m\u001b[0m\n",
      "[!]  \u001b[32m+\u001b[39m \u001b[1membreex\u001b[0m\u001b[2m==2.17.7.post6\u001b[0m\n",
      "[!]  \u001b[32m+\u001b[39m \u001b[1mmanifold3d\u001b[0m\u001b[2m==3.2.0\u001b[0m\n",
      "[!]  \u001b[32m+\u001b[39m \u001b[1mmapbox-earcut\u001b[0m\u001b[2m==1.0.3\u001b[0m\n",
      "[!]  \u001b[32m+\u001b[39m \u001b[1mpycollada\u001b[0m\u001b[2m==0.9.2\u001b[0m\n",
      "[!]  \u001b[32m+\u001b[39m \u001b[1mrtree\u001b[0m\u001b[2m==1.4.0\u001b[0m\n",
      "[!]  \u001b[32m+\u001b[39m \u001b[1mshapely\u001b[0m\u001b[2m==2.1.1\u001b[0m\n",
      "[!]  \u001b[32m+\u001b[39m \u001b[1msvg-path\u001b[0m\u001b[2m==7.0\u001b[0m\n",
      "[!]  \u001b[32m+\u001b[39m \u001b[1mtrimesh\u001b[0m\u001b[2m==4.7.1\u001b[0m\n",
      "[!]  \u001b[32m+\u001b[39m \u001b[1mvhacdx\u001b[0m\u001b[2m==0.0.8.post2\u001b[0m\n",
      "[!] \u001b[2mUsing Python 3.12.9 environment at: /opt/conda\u001b[0m\n"
     ]
    },
    {
     "name": "stdout",
     "output_type": "stream",
     "text": [
      "\n",
      "## ComfyUI-Manager: EXECUTE => \u001b[1m[\u001b[0m\u001b[32m'/opt/conda/bin/python'\u001b[0m, \u001b[32m'-m'\u001b[0m, \u001b[32m'uv'\u001b[0m, \u001b[32m'pip'\u001b[0m, \n",
      "\u001b[32m'install'\u001b[0m, \u001b[32m'albumentations'\u001b[0m\u001b[1m]\u001b[0m\n"
     ]
    },
    {
     "name": "stderr",
     "output_type": "stream",
     "text": [
      "[!] \u001b[2mResolved \u001b[1m13 packages\u001b[0m \u001b[2min 175ms\u001b[0m\u001b[0m\n",
      "[!] \u001b[2mPrepared \u001b[1m5 packages\u001b[0m \u001b[2min 440ms\u001b[0m\u001b[0m\n",
      "[!] \u001b[2mUninstalled \u001b[1m1 package\u001b[0m \u001b[2min 31ms\u001b[0m\u001b[0m\n",
      "[!] \u001b[1m\u001b[33mwarning\u001b[39m\u001b[0m\u001b[1m:\u001b[0m \u001b[1mFailed to hardlink files; falling back to full copy. This may lead to degraded performance.\n",
      "[!]          If the cache and target directories are on different filesystems, hardlinking may not be supported.\n",
      "[!]          If this is intentional, set `export UV_LINK_MODE=copy` or use `--link-mode=copy` to suppress this warning.\u001b[0m\n",
      "[!] \u001b[2mInstalled \u001b[1m5 packages\u001b[0m \u001b[2min 89ms\u001b[0m\u001b[0m\n",
      "[!]  \u001b[32m+\u001b[39m \u001b[1malbucore\u001b[0m\u001b[2m==0.0.24\u001b[0m\n",
      "[!]  \u001b[32m+\u001b[39m \u001b[1malbumentations\u001b[0m\u001b[2m==2.0.8\u001b[0m\n",
      "[!]  \u001b[31m-\u001b[39m \u001b[1mopencv-python-headless\u001b[0m\u001b[2m==4.12.0.88\u001b[0m\n",
      "[!]  \u001b[32m+\u001b[39m \u001b[1mopencv-python-headless\u001b[0m\u001b[2m==4.11.0.86\u001b[0m\n",
      "[!]  \u001b[32m+\u001b[39m \u001b[1msimsimd\u001b[0m\u001b[2m==6.5.0\u001b[0m\n",
      "[!]  \u001b[32m+\u001b[39m \u001b[1mstringzilla\u001b[0m\u001b[2m==3.12.5\u001b[0m\n",
      "[!] \u001b[2mUsing Python 3.12.9 environment at: /opt/conda\u001b[0m\n",
      "[!] \u001b[2mAudited \u001b[1m1 package\u001b[0m \u001b[2min 14ms\u001b[0m\u001b[0m\n"
     ]
    },
    {
     "name": "stdout",
     "output_type": "stream",
     "text": [
      "\n",
      "## ComfyUI-Manager: EXECUTE => \u001b[1m[\u001b[0m\u001b[32m'/opt/conda/bin/python'\u001b[0m, \u001b[32m'-m'\u001b[0m, \u001b[32m'uv'\u001b[0m, \u001b[32m'pip'\u001b[0m, \n",
      "\u001b[32m'install'\u001b[0m, \u001b[32m'scikit-learn'\u001b[0m\u001b[1m]\u001b[0m\n",
      "\n",
      "## ComfyUI-Manager: EXECUTE => \u001b[1m[\u001b[0m\u001b[32m'/opt/conda/bin/python'\u001b[0m, \u001b[32m'-m'\u001b[0m, \u001b[32m'uv'\u001b[0m, \u001b[32m'pip'\u001b[0m, \n",
      "\u001b[32m'install'\u001b[0m, \u001b[32m'matplotlib'\u001b[0m\u001b[1m]\u001b[0m\n"
     ]
    },
    {
     "name": "stderr",
     "output_type": "stream",
     "text": [
      "[!] \u001b[2mUsing Python 3.12.9 environment at: /opt/conda\u001b[0m\n",
      "[!] \u001b[2mAudited \u001b[1m1 package\u001b[0m \u001b[2min 15ms\u001b[0m\u001b[0m\n",
      "\u001b[2mUsing Python 3.12.9 environment at: /opt/conda\u001b[0m\n",
      "100%|██████████| 20.4M/20.4M [00:00<00:00, 67.8MB/s]\n",
      "Extracted zip file to /home/sagemaker-user/comfyui_on_SageMakerAI/ComfyUI/custom_nodes/was-ns\n"
     ]
    },
    {
     "name": "stdout",
     "output_type": "stream",
     "text": [
      "Install: pip packages\n",
      "\n",
      "## ComfyUI-Manager: EXECUTE => \u001b[1m[\u001b[0m\u001b[32m'/opt/conda/bin/python'\u001b[0m, \u001b[32m'-m'\u001b[0m, \u001b[32m'uv'\u001b[0m, \u001b[32m'pip'\u001b[0m, \n",
      "\u001b[32m'install'\u001b[0m, \u001b[32m'cmake'\u001b[0m\u001b[1m]\u001b[0m\n"
     ]
    },
    {
     "name": "stderr",
     "output_type": "stream",
     "text": [
      "[!] \u001b[2mUsing Python 3.12.9 environment at: /opt/conda\u001b[0m\n",
      "[!] \u001b[2mResolved \u001b[1m1 package\u001b[0m \u001b[2min 27ms\u001b[0m\u001b[0m\n",
      "[!] \u001b[2mPrepared \u001b[1m1 package\u001b[0m \u001b[2min 637ms\u001b[0m\u001b[0m\n",
      "[!] \u001b[1m\u001b[33mwarning\u001b[39m\u001b[0m\u001b[1m:\u001b[0m \u001b[1mFailed to hardlink files; falling back to full copy. This may lead to degraded performance.\n",
      "[!]          If the cache and target directories are on different filesystems, hardlinking may not be supported.\n",
      "[!]          If this is intentional, set `export UV_LINK_MODE=copy` or use `--link-mode=copy` to suppress this warning.\u001b[0m\n",
      "[!] \u001b[2mInstalled \u001b[1m1 package\u001b[0m \u001b[2min 333ms\u001b[0m\u001b[0m\n",
      "[!]  \u001b[32m+\u001b[39m \u001b[1mcmake\u001b[0m\u001b[2m==4.0.3\u001b[0m\n",
      "[!] \u001b[2mUsing Python 3.12.9 environment at: /opt/conda\u001b[0m\n"
     ]
    },
    {
     "name": "stdout",
     "output_type": "stream",
     "text": [
      "\n",
      "## ComfyUI-Manager: EXECUTE => \u001b[1m[\u001b[0m\u001b[32m'/opt/conda/bin/python'\u001b[0m, \u001b[32m'-m'\u001b[0m, \u001b[32m'uv'\u001b[0m, \u001b[32m'pip'\u001b[0m, \n",
      "\u001b[32m'install'\u001b[0m, \u001b[32m'fairscale>=0.4.4'\u001b[0m\u001b[1m]\u001b[0m\n"
     ]
    },
    {
     "name": "stderr",
     "output_type": "stream",
     "text": [
      "[!] \u001b[2mResolved \u001b[1m27 packages\u001b[0m \u001b[2min 539ms\u001b[0m\u001b[0m\n",
      "[!] \u001b[2mPrepared \u001b[1m1 package\u001b[0m \u001b[2min 322ms\u001b[0m\u001b[0m\n",
      "[!] \u001b[1m\u001b[33mwarning\u001b[39m\u001b[0m\u001b[1m:\u001b[0m \u001b[1mFailed to hardlink files; falling back to full copy. This may lead to degraded performance.\n",
      "[!]          If the cache and target directories are on different filesystems, hardlinking may not be supported.\n",
      "[!]          If this is intentional, set `export UV_LINK_MODE=copy` or use `--link-mode=copy` to suppress this warning.\u001b[0m\n",
      "[!] \u001b[2mInstalled \u001b[1m1 package\u001b[0m \u001b[2min 12ms\u001b[0m\u001b[0m\n",
      "[!]  \u001b[32m+\u001b[39m \u001b[1mfairscale\u001b[0m\u001b[2m==0.4.13\u001b[0m\n",
      "[!] \u001b[2mUsing Python 3.12.9 environment at: /opt/conda\u001b[0m\n"
     ]
    },
    {
     "name": "stdout",
     "output_type": "stream",
     "text": [
      "\n",
      "## ComfyUI-Manager: EXECUTE => \u001b[1m[\u001b[0m\u001b[32m'/opt/conda/bin/python'\u001b[0m, \u001b[32m'-m'\u001b[0m, \u001b[32m'uv'\u001b[0m, \u001b[32m'pip'\u001b[0m, \n",
      "\u001b[32m'install'\u001b[0m, \u001b[32m'git+https://github.com/ltdrdata/img2texture.git'\u001b[0m\u001b[1m]\u001b[0m\n"
     ]
    },
    {
     "name": "stderr",
     "output_type": "stream",
     "text": [
      "[!] \u001b[2mResolved \u001b[1m2 packages\u001b[0m \u001b[2min 805ms\u001b[0m\u001b[0m\n",
      "[!] \u001b[2mPrepared \u001b[1m1 package\u001b[0m \u001b[2min 206ms\u001b[0m\u001b[0m\n",
      "[!] \u001b[1m\u001b[33mwarning\u001b[39m\u001b[0m\u001b[1m:\u001b[0m \u001b[1mFailed to hardlink files; falling back to full copy. This may lead to degraded performance.\n",
      "[!]          If the cache and target directories are on different filesystems, hardlinking may not be supported.\n",
      "[!]          If this is intentional, set `export UV_LINK_MODE=copy` or use `--link-mode=copy` to suppress this warning.\u001b[0m\n",
      "[!] \u001b[2mInstalled \u001b[1m1 package\u001b[0m \u001b[2min 4ms\u001b[0m\u001b[0m\n",
      "[!]  \u001b[32m+\u001b[39m \u001b[1mimg2texture\u001b[0m\u001b[2m==1.0.6 (from git+https://github.com/ltdrdata/img2texture.git@d6159abea44a0b2cf77454d3d46962c8b21eb9d3)\u001b[0m\n",
      "[!] \u001b[2mUsing Python 3.12.9 environment at: /opt/conda\u001b[0m\n"
     ]
    },
    {
     "name": "stdout",
     "output_type": "stream",
     "text": [
      "\n",
      "## ComfyUI-Manager: EXECUTE => \u001b[1m[\u001b[0m\u001b[32m'/opt/conda/bin/python'\u001b[0m, \u001b[32m'-m'\u001b[0m, \u001b[32m'uv'\u001b[0m, \u001b[32m'pip'\u001b[0m, \n",
      "\u001b[32m'install'\u001b[0m, \u001b[32m'git+https://github.com/ltdrdata/cstr'\u001b[0m\u001b[1m]\u001b[0m\n"
     ]
    },
    {
     "name": "stderr",
     "output_type": "stream",
     "text": [
      "[!] \u001b[2mResolved \u001b[1m1 package\u001b[0m \u001b[2min 698ms\u001b[0m\u001b[0m\n",
      "[!] \u001b[2mPrepared \u001b[1m1 package\u001b[0m \u001b[2min 199ms\u001b[0m\u001b[0m\n",
      "[!] \u001b[1m\u001b[33mwarning\u001b[39m\u001b[0m\u001b[1m:\u001b[0m \u001b[1mFailed to hardlink files; falling back to full copy. This may lead to degraded performance.\n",
      "[!]          If the cache and target directories are on different filesystems, hardlinking may not be supported.\n",
      "[!]          If this is intentional, set `export UV_LINK_MODE=copy` or use `--link-mode=copy` to suppress this warning.\u001b[0m\n",
      "[!] \u001b[2mInstalled \u001b[1m1 package\u001b[0m \u001b[2min 2ms\u001b[0m\u001b[0m\n",
      "[!]  \u001b[32m+\u001b[39m \u001b[1mcstr\u001b[0m\u001b[2m==0.1.0 (from git+https://github.com/ltdrdata/cstr@0520c29a18a7a869a6e5983861d6f7a4c86f8e9b)\u001b[0m\n",
      "[!] \u001b[2mUsing Python 3.12.9 environment at: /opt/conda\u001b[0m\n",
      "[!] \u001b[2mAudited \u001b[1m1 package\u001b[0m \u001b[2min 15ms\u001b[0m\u001b[0m\n",
      "[!] \u001b[2mUsing Python 3.12.9 environment at: /opt/conda\u001b[0m\n",
      "[!] \u001b[2mAudited \u001b[1m1 package\u001b[0m \u001b[2min 14ms\u001b[0m\u001b[0m\n",
      "[!] \u001b[2mUsing Python 3.12.9 environment at: /opt/conda\u001b[0m\n",
      "[!] \u001b[2mAudited \u001b[1m1 package\u001b[0m \u001b[2min 14ms\u001b[0m\u001b[0m\n",
      "[!] \u001b[2mUsing Python 3.12.9 environment at: /opt/conda\u001b[0m\n",
      "[!] \u001b[2mAudited \u001b[1m1 package\u001b[0m \u001b[2min 14ms\u001b[0m\u001b[0m\n"
     ]
    },
    {
     "name": "stdout",
     "output_type": "stream",
     "text": [
      "\n",
      "## ComfyUI-Manager: EXECUTE => \u001b[1m[\u001b[0m\u001b[32m'/opt/conda/bin/python'\u001b[0m, \u001b[32m'-m'\u001b[0m, \u001b[32m'uv'\u001b[0m, \u001b[32m'pip'\u001b[0m, \n",
      "\u001b[32m'install'\u001b[0m, \u001b[32m'gitpython'\u001b[0m\u001b[1m]\u001b[0m\n",
      "\n",
      "## ComfyUI-Manager: EXECUTE => \u001b[1m[\u001b[0m\u001b[32m'/opt/conda/bin/python'\u001b[0m, \u001b[32m'-m'\u001b[0m, \u001b[32m'uv'\u001b[0m, \u001b[32m'pip'\u001b[0m, \n",
      "\u001b[32m'install'\u001b[0m, \u001b[32m'imageio'\u001b[0m\u001b[1m]\u001b[0m\n",
      "\n",
      "## ComfyUI-Manager: EXECUTE => \u001b[1m[\u001b[0m\u001b[32m'/opt/conda/bin/python'\u001b[0m, \u001b[32m'-m'\u001b[0m, \u001b[32m'uv'\u001b[0m, \u001b[32m'pip'\u001b[0m, \n",
      "\u001b[32m'install'\u001b[0m, \u001b[32m'joblib'\u001b[0m\u001b[1m]\u001b[0m\n",
      "\n",
      "## ComfyUI-Manager: EXECUTE => \u001b[1m[\u001b[0m\u001b[32m'/opt/conda/bin/python'\u001b[0m, \u001b[32m'-m'\u001b[0m, \u001b[32m'uv'\u001b[0m, \u001b[32m'pip'\u001b[0m, \n",
      "\u001b[32m'install'\u001b[0m, \u001b[32m'numba'\u001b[0m\u001b[1m]\u001b[0m\n",
      "\n",
      "## ComfyUI-Manager: EXECUTE => \u001b[1m[\u001b[0m\u001b[32m'/opt/conda/bin/python'\u001b[0m, \u001b[32m'-m'\u001b[0m, \u001b[32m'uv'\u001b[0m, \u001b[32m'pip'\u001b[0m, \n",
      "\u001b[32m'install'\u001b[0m, \u001b[32m'opencv-python-headless\u001b[0m\u001b[32m'\u001b[0m\u001b[1m]\u001b[0m\n"
     ]
    },
    {
     "name": "stderr",
     "output_type": "stream",
     "text": [
      "[!] \u001b[2mUsing Python 3.12.9 environment at: /opt/conda\u001b[0m\n",
      "[!] \u001b[2mAudited \u001b[1m1 package\u001b[0m \u001b[2min 16ms\u001b[0m\u001b[0m\n",
      "[!] \u001b[2mUsing Python 3.12.9 environment at: /opt/conda\u001b[0m\n",
      "[!] \u001b[2mResolved \u001b[1m2 packages\u001b[0m \u001b[2min 21ms\u001b[0m\u001b[0m\n",
      "[!] \u001b[2mPrepared \u001b[1m1 package\u001b[0m \u001b[2min 17ms\u001b[0m\u001b[0m\n",
      "[!] \u001b[1m\u001b[33mwarning\u001b[39m\u001b[0m\u001b[1m:\u001b[0m \u001b[1mFailed to hardlink files; falling back to full copy. This may lead to degraded performance.\n",
      "[!]          If the cache and target directories are on different filesystems, hardlinking may not be supported.\n",
      "[!]          If this is intentional, set `export UV_LINK_MODE=copy` or use `--link-mode=copy` to suppress this warning.\u001b[0m\n",
      "[!] \u001b[2mInstalled \u001b[1m1 package\u001b[0m \u001b[2min 9ms\u001b[0m\u001b[0m\n",
      "[!]  \u001b[32m+\u001b[39m \u001b[1mpilgram\u001b[0m\u001b[2m==1.2.1\u001b[0m\n",
      "[!] \u001b[2mUsing Python 3.12.9 environment at: /opt/conda\u001b[0m\n"
     ]
    },
    {
     "name": "stdout",
     "output_type": "stream",
     "text": [
      "\n",
      "## ComfyUI-Manager: EXECUTE => \u001b[1m[\u001b[0m\u001b[32m'/opt/conda/bin/python'\u001b[0m, \u001b[32m'-m'\u001b[0m, \u001b[32m'uv'\u001b[0m, \u001b[32m'pip'\u001b[0m, \n",
      "\u001b[32m'install'\u001b[0m, \u001b[32m'pilgram'\u001b[0m\u001b[1m]\u001b[0m\n",
      "\n",
      "## ComfyUI-Manager: EXECUTE => \u001b[1m[\u001b[0m\u001b[32m'/opt/conda/bin/python'\u001b[0m, \u001b[32m'-m'\u001b[0m, \u001b[32m'uv'\u001b[0m, \u001b[32m'pip'\u001b[0m, \n",
      "\u001b[32m'install'\u001b[0m, \u001b[32m'git+https://github.com/ltdrdata/ffmpy.git'\u001b[0m\u001b[1m]\u001b[0m\n"
     ]
    },
    {
     "name": "stderr",
     "output_type": "stream",
     "text": [
      "[!] \u001b[2mResolved \u001b[1m1 package\u001b[0m \u001b[2min 795ms\u001b[0m\u001b[0m\n",
      "[!] \u001b[2mPrepared \u001b[1m1 package\u001b[0m \u001b[2min 196ms\u001b[0m\u001b[0m\n",
      "[!] \u001b[1m\u001b[33mwarning\u001b[39m\u001b[0m\u001b[1m:\u001b[0m \u001b[1mFailed to hardlink files; falling back to full copy. This may lead to degraded performance.\n",
      "[!]          If the cache and target directories are on different filesystems, hardlinking may not be supported.\n",
      "[!]          If this is intentional, set `export UV_LINK_MODE=copy` or use `--link-mode=copy` to suppress this warning.\u001b[0m\n",
      "[!] \u001b[2mInstalled \u001b[1m1 package\u001b[0m \u001b[2min 2ms\u001b[0m\u001b[0m\n",
      "[!]  \u001b[32m+\u001b[39m \u001b[1mffmpy\u001b[0m\u001b[2m==0.3.0 (from git+https://github.com/ltdrdata/ffmpy.git@f000737698b387ffaeab7cd871b0e9185811230d)\u001b[0m\n"
     ]
    },
    {
     "name": "stdout",
     "output_type": "stream",
     "text": [
      "\n",
      "## ComfyUI-Manager: EXECUTE => \u001b[1m[\u001b[0m\u001b[32m'/opt/conda/bin/python'\u001b[0m, \u001b[32m'-m'\u001b[0m, \u001b[32m'uv'\u001b[0m, \u001b[32m'pip'\u001b[0m, \n",
      "\u001b[32m'install'\u001b[0m, \u001b[32m'rembg'\u001b[0m\u001b[1m]\u001b[0m\n",
      "\n",
      "## ComfyUI-Manager: EXECUTE => \u001b[1m[\u001b[0m\u001b[32m'/opt/conda/bin/python'\u001b[0m, \u001b[32m'-m'\u001b[0m, \u001b[32m'uv'\u001b[0m, \u001b[32m'pip'\u001b[0m, \n",
      "\u001b[32m'install'\u001b[0m, \u001b[32m'scikit-image>=0.20.0'\u001b[0m\u001b[1m]\u001b[0m\n",
      "\n",
      "## ComfyUI-Manager: EXECUTE => \u001b[1m[\u001b[0m\u001b[32m'/opt/conda/bin/python'\u001b[0m, \u001b[32m'-m'\u001b[0m, \u001b[32m'uv'\u001b[0m, \u001b[32m'pip'\u001b[0m, \n",
      "\u001b[32m'install'\u001b[0m, \u001b[32m'timm>=0.4.12'\u001b[0m\u001b[1m]\u001b[0m\n",
      "\n",
      "## ComfyUI-Manager: EXECUTE => \u001b[1m[\u001b[0m\u001b[32m'/opt/conda/bin/python'\u001b[0m, \u001b[32m'-m'\u001b[0m, \u001b[32m'uv'\u001b[0m, \u001b[32m'pip'\u001b[0m, \n",
      "\u001b[32m'install'\u001b[0m, \u001b[32m'tqdm'\u001b[0m\u001b[1m]\u001b[0m\n",
      "\u001b[1m[\u001b[0mComfyUI-Manager\u001b[1m]\u001b[0m skip black listed pip installation: \u001b[32m'transformers'\u001b[0m\n"
     ]
    },
    {
     "name": "stderr",
     "output_type": "stream",
     "text": [
      "[!] \u001b[2mUsing Python 3.12.9 environment at: /opt/conda\u001b[0m\n",
      "[!] \u001b[2mAudited \u001b[1m1 package\u001b[0m \u001b[2min 19ms\u001b[0m\u001b[0m\n",
      "[!] \u001b[2mUsing Python 3.12.9 environment at: /opt/conda\u001b[0m\n",
      "[!] \u001b[2mAudited \u001b[1m1 package\u001b[0m \u001b[2min 15ms\u001b[0m\u001b[0m\n",
      "[!] \u001b[2mUsing Python 3.12.9 environment at: /opt/conda\u001b[0m\n",
      "[!] \u001b[2mAudited \u001b[1m1 package\u001b[0m \u001b[2min 17ms\u001b[0m\u001b[0m\n",
      "[!] \u001b[2mUsing Python 3.12.9 environment at: /opt/conda\u001b[0m\n",
      "[!] \u001b[2mAudited \u001b[1m1 package\u001b[0m \u001b[2min 14ms\u001b[0m\u001b[0m\n",
      "\u001b[2mUsing Python 3.12.9 environment at: /opt/conda\u001b[0m\n",
      "100%|██████████| 283k/283k [00:00<00:00, 23.6MB/s]\n",
      "Extracted zip file to /home/sagemaker-user/comfyui_on_SageMakerAI/ComfyUI/custom_nodes/comfyui_ipadapter_plus\n",
      "\n",
      "[ComfyUI-Manager] Queued works are completed.\n",
      "{'install': 3}\n",
      "\n",
      "After restarting ComfyUI, please refresh the browser.\n"
     ]
    },
    {
     "name": "stdout",
     "output_type": "stream",
     "text": [
      "\n",
      "Restarting... [Legacy Mode]\n",
      "\n",
      "\n",
      "Command: ['/opt/conda/bin/python', './ComfyUI/main.py', '--preview-method', 'auto', '--enable-cors-header', '--use-pytorch-cross-attention']\n"
     ]
    },
    {
     "name": "stderr",
     "output_type": "stream",
     "text": [
      "\u001b[2mUsing Python 3.12.9 environment at: /opt/conda\u001b[0m\n",
      "\u001b[2mUsing Python 3.12.9 environment at: /opt/conda\u001b[0m\n",
      "\u001b[2mUsing Python 3.12.9 environment at: /opt/conda\u001b[0m\n",
      "\n",
      "Prestartup times for custom nodes:\n",
      "   0.4 seconds: /home/sagemaker-user/comfyui_on_SageMakerAI/ComfyUI/custom_nodes/ComfyUI-Manager\n",
      "\n"
     ]
    },
    {
     "name": "stdout",
     "output_type": "stream",
     "text": [
      "[START] Security scan\n",
      "[DONE] Security scan\n",
      "## ComfyUI-Manager: installing dependencies done.\n",
      "** ComfyUI startup time: 2025-07-25 06:34:27.518\n",
      "** Platform: Linux\n",
      "** Python version: 3.12.9 | packaged by conda-forge | (main, Feb 14 2025, 08:00:06) [GCC 13.3.0]\n",
      "** Python executable: /opt/conda/bin/python\n",
      "** ComfyUI Path: /home/sagemaker-user/comfyui_on_SageMakerAI/ComfyUI\n",
      "** ComfyUI Base Folder Path: /home/sagemaker-user/comfyui_on_SageMakerAI/ComfyUI\n",
      "** User directory: /home/sagemaker-user/comfyui_on_SageMakerAI/ComfyUI/user\n",
      "** ComfyUI-Manager config path: /home/sagemaker-user/comfyui_on_SageMakerAI/ComfyUI/user/default/ComfyUI-Manager/config.ini\n",
      "** Log path: /home/sagemaker-user/comfyui_on_SageMakerAI/ComfyUI/user/comfyui.log\n"
     ]
    },
    {
     "name": "stderr",
     "output_type": "stream",
     "text": [
      "Checkpoint files will always be loaded safely.\n",
      "Total VRAM 22503 MB, total RAM 31737 MB\n",
      "pytorch version: 2.7.1+cu126\n",
      "Set vram state to: NORMAL_VRAM\n",
      "Device: cuda:0 NVIDIA A10G : cudaMallocAsync\n",
      "Using pytorch attention\n",
      "Python version: 3.12.9 | packaged by conda-forge | (main, Feb 14 2025, 08:00:06) [GCC 13.3.0]\n",
      "ComfyUI version: 0.3.45\n",
      "ComfyUI frontend version: 1.23.4\n",
      "[Prompt Server] web root: /opt/conda/lib/python3.12/site-packages/comfyui_frontend_package/static\n",
      "### Loading: ComfyUI-Manager (V3.35)\n",
      "[ComfyUI-Manager] network_mode: public\n",
      "[ComfyUI-Manager] Since --preview-method is set, ComfyUI-Manager's preview method feature will be ignored.\n",
      "### ComfyUI Version: v0.3.45-16-g4293e4da | Released on '2025-07-24'\n",
      "\u001b[36;20m[/home/sagemaker-user/comfyui_on_SageMakerAI/ComfyUI/custom_nodes/comfyui_controlnet_aux] | INFO -> Using ckpts path: /home/sagemaker-user/comfyui_on_SageMakerAI/ComfyUI/custom_nodes/comfyui_controlnet_aux/ckpts\u001b[0m\n",
      "\u001b[36;20m[/home/sagemaker-user/comfyui_on_SageMakerAI/ComfyUI/custom_nodes/comfyui_controlnet_aux] | INFO -> Using symlinks: False\u001b[0m\n",
      "\u001b[36;20m[/home/sagemaker-user/comfyui_on_SageMakerAI/ComfyUI/custom_nodes/comfyui_controlnet_aux] | INFO -> Using ort providers: ['CUDAExecutionProvider', 'DirectMLExecutionProvider', 'OpenVINOExecutionProvider', 'ROCMExecutionProvider', 'CPUExecutionProvider', 'CoreMLExecutionProvider']\u001b[0m\n",
      "[ComfyUI-Manager] default cache updated: https://raw.githubusercontent.com/ltdrdata/ComfyUI-Manager/main/extension-node-map.json\n",
      "[ComfyUI-Manager] default cache updated: https://raw.githubusercontent.com/ltdrdata/ComfyUI-Manager/main/model-list.json\n",
      "[ComfyUI-Manager] default cache updated: https://raw.githubusercontent.com/ltdrdata/ComfyUI-Manager/main/github-stats.json\n",
      "[ComfyUI-Manager] default cache updated: https://raw.githubusercontent.com/ltdrdata/ComfyUI-Manager/main/alter-list.json\n",
      "[ComfyUI-Manager] default cache updated: https://raw.githubusercontent.com/ltdrdata/ComfyUI-Manager/main/custom-node-list.json\n",
      "generated new fontManager\n"
     ]
    },
    {
     "name": "stdout",
     "output_type": "stream",
     "text": [
      "DWPose: Onnxruntime with acceleration providers detected\n",
      "\u001b[34mWAS Node Suite: \u001b[0mCreated default conf file at `/home/sagemaker-user/comfyui_on_SageMakerAI/ComfyUI/custom_nodes/was-ns/was_suite_config.json`.\u001b[0m\n"
     ]
    },
    {
     "name": "stderr",
     "output_type": "stream",
     "text": [
      "2025-07-25 06:34:34.393997: E external/local_xla/xla/stream_executor/cuda/cuda_fft.cc:467] Unable to register cuFFT factory: Attempting to register factory for plugin cuFFT when one has already been registered\n",
      "WARNING: All log messages before absl::InitializeLog() is called are written to STDERR\n",
      "E0000 00:00:1753425274.409423    3527 cuda_dnn.cc:8579] Unable to register cuDNN factory: Attempting to register factory for plugin cuDNN when one has already been registered\n",
      "E0000 00:00:1753425274.415361    3527 cuda_blas.cc:1407] Unable to register cuBLAS factory: Attempting to register factory for plugin cuBLAS when one has already been registered\n",
      "W0000 00:00:1753425274.430280    3527 computation_placer.cc:177] computation placer already registered. Please check linkage and avoid linking the same target more than once.\n",
      "W0000 00:00:1753425274.430309    3527 computation_placer.cc:177] computation placer already registered. Please check linkage and avoid linking the same target more than once.\n",
      "W0000 00:00:1753425274.430312    3527 computation_placer.cc:177] computation placer already registered. Please check linkage and avoid linking the same target more than once.\n",
      "W0000 00:00:1753425274.430314    3527 computation_placer.cc:177] computation placer already registered. Please check linkage and avoid linking the same target more than once.\n",
      "2025-07-25 06:34:34.434679: I tensorflow/core/platform/cpu_feature_guard.cc:210] This TensorFlow binary is optimized to use available CPU instructions in performance-critical operations.\n",
      "To enable the following instructions: AVX2 FMA, in other operations, rebuild TensorFlow with the appropriate compiler flags.\n"
     ]
    },
    {
     "name": "stdout",
     "output_type": "stream",
     "text": [
      "FETCH ComfyRegistry Data: 5/92\n",
      "\u001b[34mWAS Node Suite: \u001b[0mOpenCV Python FFMPEG support is enabled\u001b[0m\n",
      "\u001b[34mWAS Node Suite \u001b[93mWarning: \u001b[0m`ffmpeg_bin_path` is not set in `/home/sagemaker-user/comfyui_on_SageMakerAI/ComfyUI/custom_nodes/was-ns/was_suite_config.json` config file. Will attempt to use system ffmpeg binaries if available.\u001b[0m\n",
      "\u001b[34mWAS Node Suite: \u001b[0mFinished.\u001b[0m \u001b[32mLoaded\u001b[0m \u001b[0m220\u001b[0m \u001b[32mnodes successfully.\u001b[0m\n",
      "\n",
      "\t\u001b[3m\u001b[93m\"Art is the breath of life.\"\u001b[0m\u001b[3m - Liza Donnelly\u001b[0m\n",
      "\n"
     ]
    },
    {
     "name": "stderr",
     "output_type": "stream",
     "text": [
      "\n",
      "Import times for custom nodes:\n",
      "   0.0 seconds: /home/sagemaker-user/comfyui_on_SageMakerAI/ComfyUI/custom_nodes/websocket_image_save.py\n",
      "   0.1 seconds: /home/sagemaker-user/comfyui_on_SageMakerAI/ComfyUI/custom_nodes/comfyui_ipadapter_plus\n",
      "   0.1 seconds: /home/sagemaker-user/comfyui_on_SageMakerAI/ComfyUI/custom_nodes/ComfyUI-Manager\n",
      "   0.9 seconds: /home/sagemaker-user/comfyui_on_SageMakerAI/ComfyUI/custom_nodes/comfyui_controlnet_aux\n",
      "   4.1 seconds: /home/sagemaker-user/comfyui_on_SageMakerAI/ComfyUI/custom_nodes/was-ns\n",
      "\n",
      "Context impl SQLiteImpl.\n",
      "Will assume non-transactional DDL.\n",
      "No target revision found.\n",
      "Starting server\n",
      "\n",
      "To see the GUI go to: http://127.0.0.1:8188\n"
     ]
    },
    {
     "name": "stdout",
     "output_type": "stream",
     "text": [
      "FETCH ComfyRegistry Data: 10/92\n"
     ]
    }
   ],
   "source": [
    "!pip install rembg\n",
    "!sudo apt-get update && sudo apt-get install -y libgl1-mesa-glx\n",
    "# Put ComfyUI command line args here\n",
    "args = \"--preview-method auto --enable-cors-header --use-pytorch-cross-attention\"\n",
    "\n",
    "from threading import Timer\n",
    "from queue import Queue\n",
    "import os\n",
    "    \n",
    "def launch_comfy(args):\n",
    "    print(f'Wait for local URL to appear')\n",
    "    os.system(\"python ./ComfyUI/main.py \" + args)\n",
    "    \n",
    "launch_comfy(args)"
   ]
  },
  {
   "cell_type": "code",
   "execution_count": null,
   "id": "013f2cd4-fd2f-4721-81d0-082b3839370f",
   "metadata": {},
   "outputs": [],
   "source": []
  }
 ],
 "metadata": {
  "kernelspec": {
   "display_name": "Python 3 (ipykernel)",
   "language": "python",
   "name": "python3"
  },
  "language_info": {
   "codemirror_mode": {
    "name": "ipython",
    "version": 3
   },
   "file_extension": ".py",
   "mimetype": "text/x-python",
   "name": "python",
   "nbconvert_exporter": "python",
   "pygments_lexer": "ipython3",
   "version": "3.12.9"
  }
 },
 "nbformat": 4,
 "nbformat_minor": 5
}
